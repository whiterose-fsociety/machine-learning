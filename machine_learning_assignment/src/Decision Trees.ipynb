{
 "cells": [
  {
   "cell_type": "code",
   "execution_count": 1,
   "metadata": {},
   "outputs": [],
   "source": [
    "from train import *\n",
    "# from compare import *\n",
    "from statistics import mode\n",
    "from nested_lookup import nested_lookup\n",
    "from predict import *\n",
    "from visualise import *\n",
    "import seaborn as sn\n",
    "import matplotlib.pyplot as plt\n",
    "import math\n",
    "from sklearn.preprocessing import OrdinalEncoder\n",
    "from sklearn.preprocessing import LabelEncoder\n",
    "from sklearn.preprocessing import OrdinalEncoder\n",
    "from sklearn.preprocessing import LabelEncoder\n",
    "from sklearn.model_selection import train_test_split\n",
    "from sklearn.feature_selection import SelectKBest\n",
    "from sklearn.feature_selection import chi2\n",
    "from sklearn.feature_selection import mutual_info_classif"
   ]
  },
  {
   "cell_type": "markdown",
   "metadata": {},
   "source": [
    "<h3>Decision Tree</h3>"
   ]
  },
  {
   "cell_type": "code",
   "execution_count": 2,
   "metadata": {},
   "outputs": [],
   "source": [
    "def decision_tree_acc(test_data,model):\n",
    "\tprint(\"Accuracy\")\n",
    "\tprint(np.round(prediction_accuracy(test_data,model)[0]['Accuracy'] * 100,2))\n",
    "\tshow_heatmap(prediction_accuracy(test_data,model)[1])"
   ]
  },
  {
   "cell_type": "markdown",
   "metadata": {},
   "source": [
    "<h3>Pre-Defined Prediction Methods </h3>\n"
   ]
  },
  {
   "cell_type": "code",
   "execution_count": 3,
   "metadata": {},
   "outputs": [],
   "source": [
    "def convert_first(class_list):\n",
    "\tclass_dict = {\"recurrence-events\":1,\"no-recurrence-events\":0}\n",
    "\tclass_list = [class_dict[item] for item in class_list]\n",
    "\treturn class_list\n",
    "\n",
    "def convert(class_list):\n",
    "\tclass_unique = np.unique(class_list)\n",
    "\tclass_dict = {}\n",
    "\tfor index in range(len(class_unique)):\n",
    "\t\tclass_dict[class_unique[index]] = index\n",
    "\n",
    "\tclass_list =  [class_dict[item] for item in class_list]\n",
    "\treturn class_list\n",
    "\n",
    "\n"
   ]
  },
  {
   "cell_type": "code",
   "execution_count": 4,
   "metadata": {},
   "outputs": [],
   "source": [
    "def accuracy(TP,TN,FP,FN):\n",
    "\tnumerator = TP + TN\n",
    "\tdenominator = TP + TN + FP + FN\n",
    "\treturn numerator/denominator\n",
    "\t\n",
    "\n",
    "# When it actually says, i.e real data\n",
    "#how often does it predict yes\n",
    "def recall(TP,FN):\n",
    "  return TP/(TP+FN)\n",
    "\n",
    "\n",
    "#When it predicts yes , how often\n",
    "def precision(TP,FP):\n",
    "\treturn TP/(TP+FP)\n",
    "\n",
    "\n",
    "\n",
    "\n",
    "def f_measure(recall,precision):\n",
    "\tnumerator = 2* recall * precision\n",
    "\tdenominator = recall + precision\n",
    "\treturn numerator / denominator\n",
    "\n",
    "\n",
    "\n",
    "def prediction_accuracy(test_data,model):\n",
    "\n",
    "\t# Collect all the predictions\n",
    "\tprediction_list = predict_dataset(model,test_data)\n",
    "\tconvert_pred = convert(prediction_list)\n",
    "\t# # Collect the actual values\n",
    "\tactual = list(test_data.iloc[:,-1])\n",
    "\tconvert_act = convert(actual)\n",
    "\n",
    "\tdata = {\"y_act\":convert_act,\"y_pred\":convert_pred}\n",
    "\tdf = pd.DataFrame(data,columns = [\"y_act\",\"y_pred\"])\n",
    "\tconf_matrix = pd.crosstab(df[\"y_act\"],df[\"y_pred\"],rownames=[\"Actual\"],colnames=[\"Predicted\"],margins=True,margins_name=\"Total\")\n",
    "\tTP = conf_matrix[1][1]\n",
    "\tTN = conf_matrix[0][0]\n",
    "\tFP = conf_matrix[1][0]\n",
    "\tFN = conf_matrix[0][1]\n",
    "\tacc = accuracy(TP,TN,FP,FN)\n",
    "\trecall_data = recall(TP,FN)\n",
    "\tprecision_data = precision(TP,FP)\n",
    "\tf_measure_data = f_measure(recall_data,precision_data)\n",
    "\treturn [{\"Accuracy\":acc, \"Recall\":recall_data,\"Precision\":precision_data,\"F Measure\":f_measure_data},conf_matrix]\n",
    "\n",
    "\n",
    "\n",
    "\n",
    "\n",
    "def show_heatmap(conf_matrix):\n",
    "\tsn.heatmap(conf_matrix,annot=True)\n",
    "\tplt.title(\"Breast Cancer: Confusion Matrix\")\n",
    "\tplt.show()\n"
   ]
  },
  {
   "cell_type": "code",
   "execution_count": 5,
   "metadata": {},
   "outputs": [],
   "source": [
    "def draw(parent_name, child_name):\n",
    "    edge = pydot.Edge(parent_name, child_name)\n",
    "    graph.add_edge(edge)\n",
    "\n",
    "\n",
    "def visit(node, parent=None):\n",
    "    for k,v in node.items():\n",
    "        if isinstance(v, dict):      \n",
    "            if parent:\n",
    "                draw(parent, k)\n",
    "            visit(v, k)\n",
    "        else:\n",
    "            draw(parent, k)         \n",
    "            draw(k, k+'_'+v)"
   ]
  },
  {
   "cell_type": "code",
   "execution_count": 6,
   "metadata": {},
   "outputs": [],
   "source": [
    "def organize_dataset(csv,features,p_features):\n",
    "        dataset = pd.read_csv(csv, header=None, names=features)\n",
    "        if True in [\"?\" in list(dataset[x].unique()) for x in dataset.columns]:\n",
    "            dataset = dataset[features].replace(\"?\", np.NaN)\n",
    "        return dataset[p_features]\n",
    "    \n",
    "def reorganize_dataset(dataset,missing_value):\n",
    "        dataset = dataset.drop('Class', 1)\n",
    "        new_features = list(dataset.columns)\n",
    "        f_index = new_features.index(missing_value)\n",
    "        new_features[f_index], new_features[-1] = new_features[-1], new_features[f_index]\n",
    "        return new_features    \n",
    "\n",
    "def drop_values(dataset):\n",
    "    return dataset.dropna(how=\"any\")\n",
    "    \n",
    "    \n",
    "def split_reorganized_dataset(dataset,missing_value):\n",
    "        train_filter = dataset[missing_value] != \"?\"\n",
    "        test_filter = dataset[missing_value] == \"?\"\n",
    "        train_dataset = dataset[train_filter]\n",
    "        test_dataset = dataset[test_filter]\n",
    "        train_class_values = train_dataset.loc[:, 'Class']\n",
    "        test_class_values = test_dataset.loc[:, 'Class']\n",
    "        return train_dataset, test_dataset, train_class_values, test_class_values\n",
    "\n",
    "def input_value_into_test_dataset(x_test,missing_value,predicted_values):\n",
    "        dataset = x_test.drop(missing_value, 1)\n",
    "        cols = len(x_test.columns)\n",
    "        dataset.insert(cols - 1, missing_value, predicted_values)\n",
    "        return dataset\n",
    "    \n",
    "def merge_datasets(x_train,x_test,c_train,c_test,re_features,p_features,missed_value):\n",
    "        x_train = x_train[re_features]\n",
    "        x_test = x_test[re_features]\n",
    "        model = ID3(x_train,x_train)\n",
    "        predicted_values = predict_dataset(model,x_test)\n",
    "        new_xtest = input_value_into_test_dataset(x_test,missed_value,predicted_values)\n",
    "        new_training_data = pd.concat([x_train, c_train], axis=1)\n",
    "        new_testing_data = pd.concat([new_xtest, c_test], axis=1)\n",
    "        new_dataset = pd.concat([new_training_data, new_testing_data], axis=0)\n",
    "        return new_dataset.sort_index()[p_features]\n",
    "    \n",
    "def split_dataset(dataset):\n",
    "    split = len(dataset) * 70//100\n",
    "    train_data = dataset[:split]\n",
    "    test_data = dataset[split:]\n",
    "    return train_data,test_data"
   ]
  },
  {
   "cell_type": "code",
   "execution_count": 7,
   "metadata": {},
   "outputs": [],
   "source": [
    "class Decision_Tree:\n",
    "    def __init__(self):\n",
    "        self.p_features = [\"Irradiat\",\"Age\",\"Menopause\",\"Tumor-Size\",\"Inv-Node\",\"Node-Caps\",\"Deg-Malig\",\"Breast\",\"Breast-Quad\",\"Class\"]\n",
    "        self.missing_values = [\"Node-Caps\",\"Breast-Quad\"]\n",
    "        self.missing_value = self.missing_values[0]\n",
    "    \n",
    "    def fill_most(self,dataset):\n",
    "        node_caps_top =  dataset['Node-Caps'].describe()['top']\n",
    "        breast_quad_top = dataset['Breast-Quad'].describe()['top']\n",
    "        tops = [node_caps_top,breast_quad_top]\n",
    "        for missing_value,top in zip(self.missing_values,tops):\n",
    "            if dataset[missing_value].isnull().sum() > 0:\n",
    "                dataset[missing_value].replace(np.NaN,top,inplace=True)\n",
    "        return dataset\n",
    "    \n"
   ]
  },
  {
   "cell_type": "markdown",
   "metadata": {},
   "source": [
    "<h3>Applying Feature Imputation To The Datasets</h3>"
   ]
  },
  {
   "cell_type": "markdown",
   "metadata": {},
   "source": [
    "<h3> Feature Selection </h3>"
   ]
  },
  {
   "cell_type": "code",
   "execution_count": 10,
   "metadata": {},
   "outputs": [
    {
     "data": {
      "text/html": [
       "<div>\n",
       "<style scoped>\n",
       "    .dataframe tbody tr th:only-of-type {\n",
       "        vertical-align: middle;\n",
       "    }\n",
       "\n",
       "    .dataframe tbody tr th {\n",
       "        vertical-align: top;\n",
       "    }\n",
       "\n",
       "    .dataframe thead th {\n",
       "        text-align: right;\n",
       "    }\n",
       "</style>\n",
       "<table border=\"1\" class=\"dataframe\">\n",
       "  <thead>\n",
       "    <tr style=\"text-align: right;\">\n",
       "      <th></th>\n",
       "      <th>Irradiat</th>\n",
       "      <th>Age</th>\n",
       "      <th>Menopause</th>\n",
       "      <th>Tumor-Size</th>\n",
       "      <th>Inv-Node</th>\n",
       "      <th>Node-Caps</th>\n",
       "      <th>Deg-Malig</th>\n",
       "      <th>Breast</th>\n",
       "      <th>Breast-Quad</th>\n",
       "      <th>Class</th>\n",
       "    </tr>\n",
       "  </thead>\n",
       "  <tbody>\n",
       "    <tr>\n",
       "      <th>0</th>\n",
       "      <td>no</td>\n",
       "      <td>30-39</td>\n",
       "      <td>premeno</td>\n",
       "      <td>30-34</td>\n",
       "      <td>0-2</td>\n",
       "      <td>no</td>\n",
       "      <td>3</td>\n",
       "      <td>left</td>\n",
       "      <td>left_low</td>\n",
       "      <td>no-recurrence-events</td>\n",
       "    </tr>\n",
       "    <tr>\n",
       "      <th>1</th>\n",
       "      <td>no</td>\n",
       "      <td>40-49</td>\n",
       "      <td>premeno</td>\n",
       "      <td>20-24</td>\n",
       "      <td>0-2</td>\n",
       "      <td>no</td>\n",
       "      <td>2</td>\n",
       "      <td>right</td>\n",
       "      <td>right_up</td>\n",
       "      <td>no-recurrence-events</td>\n",
       "    </tr>\n",
       "    <tr>\n",
       "      <th>2</th>\n",
       "      <td>no</td>\n",
       "      <td>40-49</td>\n",
       "      <td>premeno</td>\n",
       "      <td>20-24</td>\n",
       "      <td>0-2</td>\n",
       "      <td>no</td>\n",
       "      <td>2</td>\n",
       "      <td>left</td>\n",
       "      <td>left_low</td>\n",
       "      <td>no-recurrence-events</td>\n",
       "    </tr>\n",
       "    <tr>\n",
       "      <th>3</th>\n",
       "      <td>no</td>\n",
       "      <td>60-69</td>\n",
       "      <td>ge40</td>\n",
       "      <td>15-19</td>\n",
       "      <td>0-2</td>\n",
       "      <td>no</td>\n",
       "      <td>2</td>\n",
       "      <td>right</td>\n",
       "      <td>left_up</td>\n",
       "      <td>no-recurrence-events</td>\n",
       "    </tr>\n",
       "    <tr>\n",
       "      <th>4</th>\n",
       "      <td>no</td>\n",
       "      <td>40-49</td>\n",
       "      <td>premeno</td>\n",
       "      <td>0-4</td>\n",
       "      <td>0-2</td>\n",
       "      <td>no</td>\n",
       "      <td>2</td>\n",
       "      <td>right</td>\n",
       "      <td>right_low</td>\n",
       "      <td>no-recurrence-events</td>\n",
       "    </tr>\n",
       "    <tr>\n",
       "      <th>...</th>\n",
       "      <td>...</td>\n",
       "      <td>...</td>\n",
       "      <td>...</td>\n",
       "      <td>...</td>\n",
       "      <td>...</td>\n",
       "      <td>...</td>\n",
       "      <td>...</td>\n",
       "      <td>...</td>\n",
       "      <td>...</td>\n",
       "      <td>...</td>\n",
       "    </tr>\n",
       "    <tr>\n",
       "      <th>281</th>\n",
       "      <td>no</td>\n",
       "      <td>30-39</td>\n",
       "      <td>premeno</td>\n",
       "      <td>30-34</td>\n",
       "      <td>0-2</td>\n",
       "      <td>no</td>\n",
       "      <td>2</td>\n",
       "      <td>left</td>\n",
       "      <td>left_up</td>\n",
       "      <td>recurrence-events</td>\n",
       "    </tr>\n",
       "    <tr>\n",
       "      <th>282</th>\n",
       "      <td>yes</td>\n",
       "      <td>30-39</td>\n",
       "      <td>premeno</td>\n",
       "      <td>20-24</td>\n",
       "      <td>0-2</td>\n",
       "      <td>no</td>\n",
       "      <td>3</td>\n",
       "      <td>left</td>\n",
       "      <td>left_up</td>\n",
       "      <td>recurrence-events</td>\n",
       "    </tr>\n",
       "    <tr>\n",
       "      <th>283</th>\n",
       "      <td>no</td>\n",
       "      <td>60-69</td>\n",
       "      <td>ge40</td>\n",
       "      <td>20-24</td>\n",
       "      <td>0-2</td>\n",
       "      <td>no</td>\n",
       "      <td>1</td>\n",
       "      <td>right</td>\n",
       "      <td>left_up</td>\n",
       "      <td>recurrence-events</td>\n",
       "    </tr>\n",
       "    <tr>\n",
       "      <th>284</th>\n",
       "      <td>no</td>\n",
       "      <td>40-49</td>\n",
       "      <td>ge40</td>\n",
       "      <td>30-34</td>\n",
       "      <td>3-5</td>\n",
       "      <td>no</td>\n",
       "      <td>3</td>\n",
       "      <td>left</td>\n",
       "      <td>left_low</td>\n",
       "      <td>recurrence-events</td>\n",
       "    </tr>\n",
       "    <tr>\n",
       "      <th>285</th>\n",
       "      <td>no</td>\n",
       "      <td>50-59</td>\n",
       "      <td>ge40</td>\n",
       "      <td>30-34</td>\n",
       "      <td>3-5</td>\n",
       "      <td>no</td>\n",
       "      <td>3</td>\n",
       "      <td>left</td>\n",
       "      <td>left_low</td>\n",
       "      <td>recurrence-events</td>\n",
       "    </tr>\n",
       "  </tbody>\n",
       "</table>\n",
       "<p>286 rows × 10 columns</p>\n",
       "</div>"
      ],
      "text/plain": [
       "    Irradiat    Age Menopause Tumor-Size Inv-Node Node-Caps  Deg-Malig Breast  \\\n",
       "0         no  30-39   premeno      30-34      0-2        no          3   left   \n",
       "1         no  40-49   premeno      20-24      0-2        no          2  right   \n",
       "2         no  40-49   premeno      20-24      0-2        no          2   left   \n",
       "3         no  60-69      ge40      15-19      0-2        no          2  right   \n",
       "4         no  40-49   premeno        0-4      0-2        no          2  right   \n",
       "..       ...    ...       ...        ...      ...       ...        ...    ...   \n",
       "281       no  30-39   premeno      30-34      0-2        no          2   left   \n",
       "282      yes  30-39   premeno      20-24      0-2        no          3   left   \n",
       "283       no  60-69      ge40      20-24      0-2        no          1  right   \n",
       "284       no  40-49      ge40      30-34      3-5        no          3   left   \n",
       "285       no  50-59      ge40      30-34      3-5        no          3   left   \n",
       "\n",
       "    Breast-Quad                 Class  \n",
       "0      left_low  no-recurrence-events  \n",
       "1      right_up  no-recurrence-events  \n",
       "2      left_low  no-recurrence-events  \n",
       "3       left_up  no-recurrence-events  \n",
       "4     right_low  no-recurrence-events  \n",
       "..          ...                   ...  \n",
       "281     left_up     recurrence-events  \n",
       "282     left_up     recurrence-events  \n",
       "283     left_up     recurrence-events  \n",
       "284    left_low     recurrence-events  \n",
       "285    left_low     recurrence-events  \n",
       "\n",
       "[286 rows x 10 columns]"
      ]
     },
     "execution_count": 10,
     "metadata": {},
     "output_type": "execute_result"
    }
   ],
   "source": [
    "features = [\"Class\",\"Age\",\"Menopause\",\"Tumor-Size\",\"Inv-Node\",\"Node-Caps\",\"Deg-Malig\",\"Breast\",\"Breast-Quad\",\"Irradiat\"]\n",
    "p_features = [\"Irradiat\",\"Age\",\"Menopause\",\"Tumor-Size\",\"Inv-Node\",\"Node-Caps\",\"Deg-Malig\",\"Breast\",\"Breast-Quad\",\"Class\"]\n",
    "csv = 'breast-cancer.csv'\n",
    "dt = Decision_Tree()\n",
    "#Original Dataset\n",
    "dataset = pd.read_csv(csv, header=None, names=features)[p_features]\n",
    "# dataset['Breast-Quad'] = dataset['Breast-Quad'].replace(['?'],'left_low')\n",
    "mix_dataset = dataset.sample(frac=1)\n",
    "\n",
    "##Fill Most Dataset\n",
    "fill_most_dataset = dt.fill_most(organize_dataset(csv,features,p_features))\n",
    "mix_fill_most_dataset = fill_most_dataset.sample(frac=1)\n",
    "\n",
    "#Drop Dataset\n",
    "drop_dataset = drop_values(organize_dataset(csv,features,p_features))\n",
    "mix_drop_dataset = drop_dataset.sample(frac=1)\n",
    "\n",
    "##Classifier Dataset\n",
    "x_train, x_test, c_train, c_test = split_reorganized_dataset(dataset,\"Node-Caps\")\n",
    "re_features = reorganize_dataset(dataset,\"Node-Caps\")\n",
    "classifier_dataset = merge_datasets(x_train,x_test,c_train,c_test,re_features,p_features,\"Node-Caps\")\n",
    "mix_classifier_dataset = classifier_dataset.sample(frac=1)\n",
    "\n",
    "dataset"
   ]
  },
  {
   "cell_type": "code",
   "execution_count": 9,
   "metadata": {},
   "outputs": [
    {
     "data": {
      "text/html": [
       "<div>\n",
       "<style scoped>\n",
       "    .dataframe tbody tr th:only-of-type {\n",
       "        vertical-align: middle;\n",
       "    }\n",
       "\n",
       "    .dataframe tbody tr th {\n",
       "        vertical-align: top;\n",
       "    }\n",
       "\n",
       "    .dataframe thead th {\n",
       "        text-align: right;\n",
       "    }\n",
       "</style>\n",
       "<table border=\"1\" class=\"dataframe\">\n",
       "  <thead>\n",
       "    <tr style=\"text-align: right;\">\n",
       "      <th></th>\n",
       "      <th>Irradiat</th>\n",
       "      <th>Age</th>\n",
       "      <th>Menopause</th>\n",
       "      <th>Tumor-Size</th>\n",
       "      <th>Inv-Node</th>\n",
       "      <th>Node-Caps</th>\n",
       "      <th>Deg-Malig</th>\n",
       "      <th>Breast</th>\n",
       "      <th>Breast-Quad</th>\n",
       "      <th>Class</th>\n",
       "    </tr>\n",
       "  </thead>\n",
       "  <tbody>\n",
       "    <tr>\n",
       "      <th>171</th>\n",
       "      <td>no</td>\n",
       "      <td>30-39</td>\n",
       "      <td>premeno</td>\n",
       "      <td>15-19</td>\n",
       "      <td>0-2</td>\n",
       "      <td>no</td>\n",
       "      <td>1</td>\n",
       "      <td>left</td>\n",
       "      <td>left_low</td>\n",
       "      <td>no-recurrence-events</td>\n",
       "    </tr>\n",
       "    <tr>\n",
       "      <th>7</th>\n",
       "      <td>no</td>\n",
       "      <td>60-69</td>\n",
       "      <td>ge40</td>\n",
       "      <td>20-24</td>\n",
       "      <td>0-2</td>\n",
       "      <td>no</td>\n",
       "      <td>1</td>\n",
       "      <td>left</td>\n",
       "      <td>left_low</td>\n",
       "      <td>no-recurrence-events</td>\n",
       "    </tr>\n",
       "    <tr>\n",
       "      <th>223</th>\n",
       "      <td>no</td>\n",
       "      <td>60-69</td>\n",
       "      <td>ge40</td>\n",
       "      <td>20-24</td>\n",
       "      <td>0-2</td>\n",
       "      <td>no</td>\n",
       "      <td>3</td>\n",
       "      <td>right</td>\n",
       "      <td>left_low</td>\n",
       "      <td>recurrence-events</td>\n",
       "    </tr>\n",
       "    <tr>\n",
       "      <th>96</th>\n",
       "      <td>no</td>\n",
       "      <td>60-69</td>\n",
       "      <td>ge40</td>\n",
       "      <td>30-34</td>\n",
       "      <td>0-2</td>\n",
       "      <td>no</td>\n",
       "      <td>2</td>\n",
       "      <td>left</td>\n",
       "      <td>left_up</td>\n",
       "      <td>no-recurrence-events</td>\n",
       "    </tr>\n",
       "    <tr>\n",
       "      <th>13</th>\n",
       "      <td>no</td>\n",
       "      <td>50-59</td>\n",
       "      <td>ge40</td>\n",
       "      <td>25-29</td>\n",
       "      <td>0-2</td>\n",
       "      <td>no</td>\n",
       "      <td>3</td>\n",
       "      <td>left</td>\n",
       "      <td>right_up</td>\n",
       "      <td>no-recurrence-events</td>\n",
       "    </tr>\n",
       "    <tr>\n",
       "      <th>...</th>\n",
       "      <td>...</td>\n",
       "      <td>...</td>\n",
       "      <td>...</td>\n",
       "      <td>...</td>\n",
       "      <td>...</td>\n",
       "      <td>...</td>\n",
       "      <td>...</td>\n",
       "      <td>...</td>\n",
       "      <td>...</td>\n",
       "      <td>...</td>\n",
       "    </tr>\n",
       "    <tr>\n",
       "      <th>278</th>\n",
       "      <td>no</td>\n",
       "      <td>50-59</td>\n",
       "      <td>premeno</td>\n",
       "      <td>35-39</td>\n",
       "      <td>15-17</td>\n",
       "      <td>yes</td>\n",
       "      <td>3</td>\n",
       "      <td>right</td>\n",
       "      <td>right_up</td>\n",
       "      <td>recurrence-events</td>\n",
       "    </tr>\n",
       "    <tr>\n",
       "      <th>142</th>\n",
       "      <td>no</td>\n",
       "      <td>60-69</td>\n",
       "      <td>ge40</td>\n",
       "      <td>10-14</td>\n",
       "      <td>0-2</td>\n",
       "      <td>no</td>\n",
       "      <td>1</td>\n",
       "      <td>left</td>\n",
       "      <td>left_up</td>\n",
       "      <td>no-recurrence-events</td>\n",
       "    </tr>\n",
       "    <tr>\n",
       "      <th>51</th>\n",
       "      <td>no</td>\n",
       "      <td>30-39</td>\n",
       "      <td>premeno</td>\n",
       "      <td>20-24</td>\n",
       "      <td>0-2</td>\n",
       "      <td>no</td>\n",
       "      <td>2</td>\n",
       "      <td>left</td>\n",
       "      <td>right_low</td>\n",
       "      <td>no-recurrence-events</td>\n",
       "    </tr>\n",
       "    <tr>\n",
       "      <th>194</th>\n",
       "      <td>yes</td>\n",
       "      <td>50-59</td>\n",
       "      <td>premeno</td>\n",
       "      <td>50-54</td>\n",
       "      <td>0-2</td>\n",
       "      <td>yes</td>\n",
       "      <td>2</td>\n",
       "      <td>right</td>\n",
       "      <td>left_up</td>\n",
       "      <td>no-recurrence-events</td>\n",
       "    </tr>\n",
       "    <tr>\n",
       "      <th>1</th>\n",
       "      <td>no</td>\n",
       "      <td>40-49</td>\n",
       "      <td>premeno</td>\n",
       "      <td>20-24</td>\n",
       "      <td>0-2</td>\n",
       "      <td>no</td>\n",
       "      <td>2</td>\n",
       "      <td>right</td>\n",
       "      <td>right_up</td>\n",
       "      <td>no-recurrence-events</td>\n",
       "    </tr>\n",
       "  </tbody>\n",
       "</table>\n",
       "<p>286 rows × 10 columns</p>\n",
       "</div>"
      ],
      "text/plain": [
       "    Irradiat    Age Menopause Tumor-Size Inv-Node Node-Caps  Deg-Malig Breast  \\\n",
       "171       no  30-39   premeno      15-19      0-2        no          1   left   \n",
       "7         no  60-69      ge40      20-24      0-2        no          1   left   \n",
       "223       no  60-69      ge40      20-24      0-2        no          3  right   \n",
       "96        no  60-69      ge40      30-34      0-2        no          2   left   \n",
       "13        no  50-59      ge40      25-29      0-2        no          3   left   \n",
       "..       ...    ...       ...        ...      ...       ...        ...    ...   \n",
       "278       no  50-59   premeno      35-39    15-17       yes          3  right   \n",
       "142       no  60-69      ge40      10-14      0-2        no          1   left   \n",
       "51        no  30-39   premeno      20-24      0-2        no          2   left   \n",
       "194      yes  50-59   premeno      50-54      0-2       yes          2  right   \n",
       "1         no  40-49   premeno      20-24      0-2        no          2  right   \n",
       "\n",
       "    Breast-Quad                 Class  \n",
       "171    left_low  no-recurrence-events  \n",
       "7      left_low  no-recurrence-events  \n",
       "223    left_low     recurrence-events  \n",
       "96      left_up  no-recurrence-events  \n",
       "13     right_up  no-recurrence-events  \n",
       "..          ...                   ...  \n",
       "278    right_up     recurrence-events  \n",
       "142     left_up  no-recurrence-events  \n",
       "51    right_low  no-recurrence-events  \n",
       "194     left_up  no-recurrence-events  \n",
       "1      right_up  no-recurrence-events  \n",
       "\n",
       "[286 rows x 10 columns]"
      ]
     },
     "execution_count": 9,
     "metadata": {},
     "output_type": "execute_result"
    }
   ],
   "source": [
    "fs_features =  [\"Tumor-Size\",\"Inv-Node\",\"Node-Caps\",\"Irradiat\",\"Class\"]\n",
    "mix_dataset"
   ]
  },
  {
   "cell_type": "code",
   "execution_count": 23,
   "metadata": {},
   "outputs": [],
   "source": [
    "#Original Dataset\n",
    "train_mix_dataset,test_mix_dataset = split_dataset(mix_dataset)\n",
    "\n",
    "# Drop dataset\n",
    "train_mix_drop_dataset,test_mix_drop_dataset = split_dataset(mix_drop_dataset)\n",
    "\n",
    "#Fill Most Dataset\n",
    "train_mix_fill_most_dataset,test_mix_fill_most_dataset = split_dataset(mix_fill_most_dataset)\n",
    "\n",
    "#Classifier Dataset\n",
    "train_mix_classifier_dataset,test_mix_classifier_dataset = split_dataset(mix_classifier_dataset)\n"
   ]
  },
  {
   "cell_type": "markdown",
   "metadata": {},
   "source": [
    "<h3> Decision Tree and Accuracy </h3>\n",
    "<h4> Feature Imputation: Method 1: Drop Missing Values</h4>\n",
    "<h4>vs</h4>\n",
    "<h4> Feature Selected Imputation </h4>"
   ]
  },
  {
   "cell_type": "code",
   "execution_count": 24,
   "metadata": {},
   "outputs": [
    {
     "name": "stdout",
     "output_type": "stream",
     "text": [
      "Accuracy\n",
      "65.48\n"
     ]
    },
    {
     "data": {
      "image/png": "[encoded data removed]",
      "text/plain": [
       "<Figure size 432x288 with 2 Axes>"
      ]
     },
     "metadata": {},
     "output_type": "display_data"
    },
    {
     "name": "stdout",
     "output_type": "stream",
     "text": [
      "Accuracy\n",
      "70.24\n"
     ]
    },
    {
     "data": {
      "image/png": "[encoded data removed]",
      "text/plain": [
       "<Figure size 432x288 with 2 Axes>"
      ]
     },
     "metadata": {},
     "output_type": "display_data"
    }
   ],
   "source": [
    "drop_model = ID3(train_mix_drop_dataset,train_mix_drop_dataset)\n",
    "decision_tree_acc(test_mix_drop_dataset,drop_model)\n",
    "\n",
    "fs_drop_model = ID3(train_mix_drop_dataset[fs_features],train_mix_drop_dataset[fs_features])\n",
    "decision_tree_acc(test_mix_drop_dataset[fs_features],fs_drop_model)\n"
   ]
  },
  {
   "cell_type": "markdown",
   "metadata": {},
   "source": [
    "<h3> Decision Tree and Accuracy </h3>\n",
    "<h4> Feature Imputation: Method 2: Fill Most Values</h4>\n",
    "<h4>vs</h4>\n",
    "<h4> Feature Selected Imputation </h4>"
   ]
  },
  {
   "cell_type": "code",
   "execution_count": 25,
   "metadata": {},
   "outputs": [
    {
     "name": "stdout",
     "output_type": "stream",
     "text": [
      "Accuracy\n",
      "66.28\n"
     ]
    },
    {
     "data": {
      "image/png": "[encoded data removed]",
      "text/plain": [
       "<Figure size 432x288 with 2 Axes>"
      ]
     },
     "metadata": {},
     "output_type": "display_data"
    },
    {
     "name": "stdout",
     "output_type": "stream",
     "text": [
      "Accuracy\n",
      "65.12\n"
     ]
    },
    {
     "data": {
      "image/png": "[encoded data removed]",
      "text/plain": [
       "<Figure size 432x288 with 2 Axes>"
      ]
     },
     "metadata": {},
     "output_type": "display_data"
    }
   ],
   "source": [
    "fill_model = ID3(train_mix_fill_most_dataset,train_mix_fill_most_dataset)\n",
    "fill_model_accuracy = decision_tree_acc(test_mix_fill_most_dataset,fill_model)\n",
    "\n",
    "#Feature Selected\n",
    "fs_fill_model = ID3(train_mix_fill_most_dataset[fs_features],train_mix_fill_most_dataset[fs_features])\n",
    "fs_fill_model_accuracy = decision_tree_acc(test_mix_fill_most_dataset[fs_features],fs_fill_model)"
   ]
  },
  {
   "cell_type": "markdown",
   "metadata": {},
   "source": [
    "<h3> Decision Tree and Accuracy </h3>\n",
    "<h4> Feature Imputation: Method 3: Classify Values</h4>\n",
    "<h4>vs</h4>\n",
    "<h4> Feature Selected Imputation </h4>"
   ]
  },
  {
   "cell_type": "code",
   "execution_count": 29,
   "metadata": {},
   "outputs": [
    {
     "name": "stdout",
     "output_type": "stream",
     "text": [
      "Accuracy\n",
      "67.44\n"
     ]
    },
    {
     "data": {
      "image/png": "[encoded data removed]",
      "text/plain": [
       "<Figure size 432x288 with 2 Axes>"
      ]
     },
     "metadata": {},
     "output_type": "display_data"
    },
    {
     "name": "stdout",
     "output_type": "stream",
     "text": [
      "Accuracy\n",
      "70.93\n"
     ]
    },
    {
     "data": {
      "image/png": "[encoded data removed]",
      "text/plain": [
       "<Figure size 432x288 with 2 Axes>"
      ]
     },
     "metadata": {},
     "output_type": "display_data"
    }
   ],
   "source": [
    "classifier_model = ID3(train_mix_classifier_dataset,train_mix_classifier_dataset)\n",
    "classifier_model_accuray = decision_tree_acc(test_mix_classifier_dataset,fill_model)\n",
    "\n",
    "\n",
    "#Feature Selected\n",
    "fs_classifier_model = ID3(train_mix_classifier_dataset[fs_features],train_mix_classifier_dataset[fs_features])\n",
    "fs_classifier_model_accuray = decision_tree_acc(test_mix_classifier_dataset[fs_features],fs_drop_model)"
   ]
  },
  {
   "cell_type": "markdown",
   "metadata": {},
   "source": [
    "<h3> Visualisations </h3>"
   ]
  },
  {
   "cell_type": "code",
   "execution_count": 30,
   "metadata": {},
   "outputs": [],
   "source": [
    "import Dataset"
   ]
  },
  {
   "cell_type": "markdown",
   "metadata": {},
   "source": [
    "<h3> Occurence of Target Values </h3>"
   ]
  },
  {
   "cell_type": "code",
   "execution_count": 31,
   "metadata": {},
   "outputs": [
    {
     "name": "stderr",
     "output_type": "stream",
     "text": [
      "/home/molefe/Learning/Wits/Machine Learning/Machine Learning: Assignment/machine-learning/machine_learning_assignment/src/Dataset.py:220: SettingWithCopyWarning: \n",
      "A value is trying to be set on a copy of a slice from a DataFrame.\n",
      "Try using .loc[row_indexer,col_indexer] = value instead\n",
      "\n",
      "See the caveats in the documentation: https://pandas.pydata.org/pandas-docs/stable/user_guide/indexing.html#returning-a-view-versus-a-copy\n",
      "  X[feature] = l3.transform(X[feature])\n"
     ]
    },
    {
     "data": {
      "image/png": "[encoded data removed]",
      "text/plain": [
       "<Figure size 432x288 with 1 Axes>"
      ]
     },
     "metadata": {},
     "output_type": "display_data"
    }
   ],
   "source": [
    "visualise = Dataset.Visualize(csv)\n",
    "visualise.count_plot()\n"
   ]
  },
  {
   "cell_type": "markdown",
   "metadata": {},
   "source": [
    "<h3> Feature Contribution </h3>"
   ]
  },
  {
   "cell_type": "code",
   "execution_count": 32,
   "metadata": {},
   "outputs": [
    {
     "data": {
      "image/png": "[encoded data removed]",
      "text/plain": [
       "<Figure size 1152x576 with 9 Axes>"
      ]
     },
     "metadata": {},
     "output_type": "display_data"
    },
    {
     "name": "stdout",
     "output_type": "stream",
     "text": [
      "Class Target vs Irradiat \n",
      "Irradiat                    no       yes\n",
      "Class                                   \n",
      "no-recurrence-events  0.573427  0.129371\n",
      "recurrence-events     0.188811  0.108392\n",
      "\n",
      "Class Target vs Age \n",
      "Age                      20-29     30-39     40-49     50-59     60-69  \\\n",
      "Class                                                                    \n",
      "no-recurrence-events  0.003497  0.073427  0.220280  0.248252  0.139860   \n",
      "recurrence-events     0.000000  0.052448  0.094406  0.087413  0.059441   \n",
      "\n",
      "Age                      70-79  \n",
      "Class                           \n",
      "no-recurrence-events  0.017483  \n",
      "recurrence-events     0.003497  \n",
      "\n",
      "Class Target vs Menopause \n",
      "Menopause                 ge40      lt40   premeno\n",
      "Class                                             \n",
      "no-recurrence-events  0.328671  0.017483  0.356643\n",
      "recurrence-events     0.122378  0.006993  0.167832\n",
      "\n",
      "Class Target vs Tumor-Size \n",
      "Tumor-Size                 0-4     10-14     15-19     20-24     25-29  \\\n",
      "Class                                                                    \n",
      "no-recurrence-events  0.024476  0.094406  0.080420  0.118881  0.125874   \n",
      "recurrence-events     0.003497  0.003497  0.024476  0.055944  0.062937   \n",
      "\n",
      "Tumor-Size               30-34     35-39     40-44     45-49       5-9  \\\n",
      "Class                                                                    \n",
      "no-recurrence-events  0.122378  0.041958  0.055944  0.006993  0.013986   \n",
      "recurrence-events     0.087413  0.024476  0.020979  0.003497  0.000000   \n",
      "\n",
      "Tumor-Size               50-54  \n",
      "Class                           \n",
      "no-recurrence-events  0.017483  \n",
      "recurrence-events     0.010490  \n",
      "\n",
      "Class Target vs Inv-Nodes \n",
      "Inv-Nodes                  0-2     12-14    15-17     24-26       3-5  \\\n",
      "Class                                                                   \n",
      "no-recurrence-events  0.583916  0.003497  0.01049  0.000000  0.066434   \n",
      "recurrence-events     0.160839  0.006993  0.01049  0.003497  0.059441   \n",
      "\n",
      "Inv-Nodes                  6-8      9-11  \n",
      "Class                                     \n",
      "no-recurrence-events  0.024476  0.013986  \n",
      "recurrence-events     0.034965  0.020979  \n",
      "\n",
      "Class Target vs Node-Caps \n",
      "Node-Caps                   no       yes\n",
      "Class                                   \n",
      "no-recurrence-events  0.615385  0.087413\n",
      "recurrence-events     0.188811  0.108392\n",
      "\n",
      "Class Target vs Deg-Malig \n",
      "Deg-Malig                    1         2         3\n",
      "Class                                             \n",
      "no-recurrence-events  0.206294  0.356643  0.139860\n",
      "recurrence-events     0.041958  0.097902  0.157343\n",
      "\n",
      "Class Target vs Breast \n",
      "Breast                    left     right\n",
      "Class                                   \n",
      "no-recurrence-events  0.360140  0.342657\n",
      "recurrence-events     0.171329  0.125874\n",
      "\n",
      "Class Target vs Breast-Quad \n",
      "Breast-Quad            central  left_low   left_up  right_low  right_up\n",
      "Class                                                                  \n",
      "no-recurrence-events  0.059441  0.262238  0.248252   0.062937  0.069930\n",
      "recurrence-events     0.013986  0.125874  0.090909   0.020979  0.045455\n",
      "\n",
      "Irradiat : 0.0\n",
      "Age : 0.04536664685581715\n",
      "Menopause : 0.04800903730602424\n",
      "Tumor-Size : 0.024936830484046713\n",
      "Inv-Nodes : 0.03215912111575481\n",
      "Node-Caps : 0.0\n",
      "Deg-Malig : 0.019097410627516576\n",
      "Breast : 0.07072197497908483\n",
      "Breast-Quad : 0.0\n"
     ]
    },
    {
     "data": {
      "image/png": "[encoded data removed]",
      "text/plain": [
       "<Figure size 1440x1440 with 1 Axes>"
      ]
     },
     "metadata": {},
     "output_type": "display_data"
    }
   ],
   "source": [
    "visualise.multi_barplot()\n",
    "visualise.crosstab_information()\n",
    "visualise.feature_contribution()"
   ]
  },
  {
   "cell_type": "code",
   "execution_count": null,
   "metadata": {},
   "outputs": [],
   "source": []
  },
  {
   "cell_type": "code",
   "execution_count": null,
   "metadata": {},
   "outputs": [],
   "source": []
  },
  {
   "cell_type": "code",
   "execution_count": null,
   "metadata": {},
   "outputs": [],
   "source": []
  }
 ],
 "metadata": {
  "kernelspec": {
   "display_name": "Python 3",
   "language": "python",
   "name": "python3"
  },
  "language_info": {
   "codemirror_mode": {
    "name": "ipython",
    "version": 3
   },
   "file_extension": ".py",
   "mimetype": "text/x-python",
   "name": "python",
   "nbconvert_exporter": "python",
   "pygments_lexer": "ipython3",
   "version": "3.6.3"
  }
 },
 "nbformat": 4,
 "nbformat_minor": 4
}
