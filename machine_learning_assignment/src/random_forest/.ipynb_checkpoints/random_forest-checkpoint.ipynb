{
 "cells": [
  {
   "cell_type": "markdown",
   "metadata": {},
   "source": [
    "<h2 style=\"color:lightgreen\">Random Forests</h2>"
   ]
  },
  {
   "cell_type": "markdown",
   "metadata": {},
   "source": [
    "<h2> Large amounts of the code imported are abstracted away</h2>\n",
    "<h3 style=\"color:lightgreen\">The code that is imported is similar to the Decision Tree"
   ]
  },
  {
   "cell_type": "code",
   "execution_count": 3,
   "metadata": {},
   "outputs": [],
   "source": [
    "import model\n",
    "import pandas as pd\n",
    "import dec\n",
    "import accuracy\n",
    "from statistics import mode"
   ]
  },
  {
   "cell_type": "code",
   "execution_count": 4,
   "metadata": {},
   "outputs": [],
   "source": [
    "dataset = pd.read_csv(\"tennis.csv\",header=None,names=[\"Outlook\",\"Temperature\",\"Humidity\",\"Windy\",\"Play\"])\n",
    "features=[\"Outlook\",\"Temperature\",\"Humidity\",\"Windy\"]"
   ]
  },
  {
   "cell_type": "code",
   "execution_count": 5,
   "metadata": {},
   "outputs": [],
   "source": [
    "dataset = dataset.sample(frac=1)"
   ]
  },
  {
   "cell_type": "markdown",
   "metadata": {},
   "source": [
    "<p style=\"color:salmon\">Split the dataset</p>"
   ]
  },
  {
   "cell_type": "code",
   "execution_count": 6,
   "metadata": {},
   "outputs": [],
   "source": [
    "def split_data(dataset):\n",
    "\tsplit = len(dataset) * 50//100\n",
    "\ttrain = dataset.iloc[:split].reset_index(drop=True)\n",
    "\treturn train"
   ]
  },
  {
   "cell_type": "markdown",
   "metadata": {},
   "source": [
    "<h3 style=\"color:salmon\"> The Random Forest Algorithm: Highly Abstracted </h3>"
   ]
  },
  {
   "cell_type": "code",
   "execution_count": 7,
   "metadata": {},
   "outputs": [],
   "source": [
    "def random_forest_model(dataset,num_trees):\n",
    "\trandom_forest = []\n",
    "\tfor i in range(num_trees):\n",
    "\t\tbootstrap_sample = dataset.sample(frac=1,replace=True)\n",
    "\t\tbootstrap_train = split_data(bootstrap_sample)\n",
    "\t\ttree = model.decision_tree(bootstrap_train,bootstrap_train)\n",
    "\t\trandom_forest.append(tree)\n",
    "\treturn random_forest\n"
   ]
  },
  {
   "cell_type": "markdown",
   "metadata": {},
   "source": [
    "<h3 style=\"color:#f9f9f9\">Predict an instance </h3>"
   ]
  },
  {
   "cell_type": "code",
   "execution_count": 8,
   "metadata": {},
   "outputs": [],
   "source": [
    "def forest_predict(forest,query):\n",
    "\tpredicts = []\n",
    "\tfor i in range(len(forest)):\n",
    "\t\t# if prediction is a dictionary that means, the tree does not give a value \n",
    "\t\tprediction = accuracy.predict(forest[i],query)\n",
    "\t\tfilt = filter_pred(prediction)\n",
    "\t\tpredicts.append(filt)\n",
    "\treturn predicts"
   ]
  },
  {
   "cell_type": "markdown",
   "metadata": {},
   "source": [
    "<h3 style=\"color:gray\">This method filters the results from a prediction</h3>"
   ]
  },
  {
   "cell_type": "code",
   "execution_count": 9,
   "metadata": {},
   "outputs": [],
   "source": [
    "def filter_pred(prediction):\n",
    "\tif type(prediction) == list:\n",
    "\t\tif type(prediction[0]) == dict:\n",
    "\t\t\tpred = dec.get_leaves(prediction[0])\n",
    "\t\t\treturn dec.get_mode(pred)\n",
    "\t\telse:\n",
    "\t\t\treturn prediction[0]\n",
    "\telif type(prediction) == dict:\n",
    "\t\tpred = dec.get_leaves(prediction)\n",
    "\t\treturn dec.get_mode(pred)\n",
    "\telse:\n",
    "\t\treturn prediction"
   ]
  },
  {
   "cell_type": "code",
   "execution_count": 10,
   "metadata": {},
   "outputs": [],
   "source": [
    "def predict_testing_data(forest,test_data):\n",
    "\tprediction_class = []\n",
    "\tfor row in range(len(test_data)):\n",
    "\t\tquery = list(test_data.iloc[row,:-1])\n",
    "\t\tdecision = forest_predict(forest,query)\n",
    "\t\tprediction_class.append(dec.get_mode(decision))\n",
    "\treturn prediction_class\n"
   ]
  },
  {
   "cell_type": "markdown",
   "metadata": {},
   "source": [
    "<h2 style=\"color:lightgreen\">The Random Forest Method</h2>"
   ]
  },
  {
   "cell_type": "code",
   "execution_count": 11,
   "metadata": {},
   "outputs": [],
   "source": [
    "\n",
    "def random_forest(dataset):\n",
    "\tsplit = len(dataset) * 50//100\n",
    "\ttesting_data = dataset.iloc[split:].reset_index(drop=True)\n",
    "\tprint(testing_data)\n",
    "\tforest = random_forest_model(dataset,10)\n",
    "\tactual_data = list(testing_data.iloc[:,-1])\n",
    "\tpredicted_data = predict_testing_data(forest,testing_data)\n",
    "\t# print(\"Actual Data\",actual_data)\n",
    "\t# print(\"Predicted Data\",predicted_data)\n",
    "\n",
    "\t# Generalise later\n",
    "\tactual_n = accuracy.convert_first(actual_data)\n",
    "\tpredicted_n = accuracy.convert_first(predicted_data)\n",
    "\t# print(\"Actual\",actual_n)\n",
    "\t# print(\"Predicted\",predicted_n)\n",
    "\tdata = {\"y_act\":actual_n,\"y_pred\":predicted_n}\n",
    "\tdf = pd.DataFrame(data,columns = [\"y_act\",\"y_pred\"])\n",
    "\tconf_matrix = pd.crosstab(df[\"y_act\"],df[\"y_pred\"],rownames=[\"Actual\"],colnames=[\"Predicted\"],margins=True,margins_name=\"Total\")\n",
    "\tprint()\n",
    "\tprint(\"Confusion Matrix\")\n",
    "\tprint(conf_matrix)\n",
    "\tTP = conf_matrix[1][1]\n",
    "\tTN = conf_matrix[0][0]\n",
    "\tFP = conf_matrix[1][0]\n",
    "\tFN = conf_matrix[0][1]\n",
    "\tacc = accuracy.accuracy(TP,TN,FP,FN)\n",
    "\trecall = accuracy.recall(TP,FN)\n",
    "\tprecision = accuracy.precision(TP,FP)\n",
    "\tf_measure_data = accuracy.f_measure(recall,precision)\n",
    "\tprint(\"Accuracy: \",acc)\n",
    "\tprint(\"Recall: \",recall)\n",
    "\tprint(\"Precision: \",precision)\n",
    "\tprint(\"F Measure: \",f_measure_data)\n",
    "\taccuracy.show_heatmap(conf_matrix)"
   ]
  },
  {
   "cell_type": "code",
   "execution_count": 12,
   "metadata": {},
   "outputs": [
    {
     "name": "stdout",
     "output_type": "stream",
     "text": [
      "    Outlook Temperature Humidity   Windy Play\n",
      "0     Sunny        Mild   Normal  Strong  Yes\n",
      "1  Overcast         Hot   Normal    Weak  Yes\n",
      "2     Sunny        Cool   Normal    Weak  Yes\n",
      "3     Rainy        Cool   Normal    Weak  Yes\n",
      "4     Sunny        Mild     High    Weak   No\n",
      "5  Overcast        Mild     High  Strong  Yes\n",
      "6     Rainy        Cool   Normal  Strong   No\n",
      "\n",
      "Confusion Matrix\n",
      "Predicted  0  1  Total\n",
      "Actual                \n",
      "0          1  1      2\n",
      "1          2  3      5\n",
      "Total      3  4      7\n",
      "Accuracy:  0.571428571429\n",
      "Recall:  0.6\n",
      "Precision:  0.75\n",
      "F Measure:  0.666666666667\n"
     ]
    },
    {
     "data": {
      "image/png": "[encoded data removed]",
      "text/plain": [
       "<Figure size 432x288 with 2 Axes>"
      ]
     },
     "metadata": {
      "needs_background": "light"
     },
     "output_type": "display_data"
    }
   ],
   "source": [
    "random_forest(dataset)"
   ]
  },
  {
   "cell_type": "code",
   "execution_count": null,
   "metadata": {},
   "outputs": [],
   "source": []
  }
 ],
 "metadata": {
  "kernelspec": {
   "display_name": "Python 3",
   "language": "python",
   "name": "python3"
  },
  "language_info": {
   "codemirror_mode": {
    "name": "ipython",
    "version": 3
   },
   "file_extension": ".py",
   "mimetype": "text/x-python",
   "name": "python",
   "nbconvert_exporter": "python",
   "pygments_lexer": "ipython3",
   "version": "3.6.3"
  }
 },
 "nbformat": 4,
 "nbformat_minor": 4
}
