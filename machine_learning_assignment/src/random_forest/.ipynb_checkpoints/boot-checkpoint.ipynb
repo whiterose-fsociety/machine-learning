{
 "cells": [
  {
   "cell_type": "markdown",
   "metadata": {},
   "source": [
    "# Bootstrap Class\n",
    "## The file returns a bootstrapped dataset"
   ]
  },
  {
   "cell_type": "markdown",
   "metadata": {},
   "source": [
    "<h2 style='padding: 10px;color:green'>Original Dataset</h2>\n",
    "<table class='table table-striped'> <thead> \n",
    "<tr>\n",
    "<th>ID</th> \n",
    "<th>P</th> \n",
    "<th>Q</th>\n",
    "<th>R</th>\n",
    "<th>Class</th> \n",
    "</tr> \n",
    "</thead> \n",
    "<tbody> \n",
    "<tr> \n",
    "<th scope='row'>20</th> \n",
    "<td>0</td> \n",
    "<td>0</td> \n",
    "<td>1</td> \n",
    "<td>T</td> \n",
    "</tr>\n",
    "<tr> \n",
    "<th scope='row'>21</th> \n",
    "<td>1</td> \n",
    "<td>0</td> \n",
    "<td>0</td> \n",
    "<td>F</td>\n",
    "</tr> \n",
    "<tr> \n",
    "<th scope='row'>22</th> \n",
    "<td>2</td> \n",
    "<td>0</td> \n",
    "<td>0</td> \n",
    "<td>F</td> \n",
    "</tr>\n",
    "<tr>\n",
    "\t<th scope=\"row\">23</th>\n",
    "\t<td>1</td>\n",
    "\t<td>1</td>\n",
    "\t<td>2</td>\n",
    "\t<td>T</td>\n",
    "</tr>\n",
    " </tbody> </table>"
   ]
  },
  {
   "cell_type": "markdown",
   "metadata": {},
   "source": [
    "<h2 style='padding: 10px;color:lightblue;'>Bootstrap Dataset</h2>\n",
    "<table class='table table-striped'> <thead> \n",
    "<tr>\n",
    "<th>ID</th> \n",
    "<th>P</th> \n",
    "<th>Q</th>\n",
    "<th>R</th>\n",
    "<th>Class</th> \n",
    "</tr> \n",
    "</thead> \n",
    "<tbody> \n",
    "<tr> \n",
    "<th scope='row'>20</th> \n",
    "<td>0</td> \n",
    "<td>0</td> \n",
    "<td>1</td> \n",
    "<td>T</td> \n",
    "</tr>\n",
    "<tr> \n",
    "<th scope='row'>22</th> \n",
    "<td>2</td> \n",
    "<td>0</td> \n",
    "<td>0</td> \n",
    "<td>F</td> \n",
    "</tr>\n",
    "<tr> \n",
    "<th scope='row'>20</th> \n",
    "<td>0</td> \n",
    "<td>0</td> \n",
    "<td>1</td> \n",
    "<td>T</td> \n",
    "</tr>\n",
    "<tr> \n",
    "<th scope='row'>22</th> \n",
    "<td>2</td> \n",
    "<td>0</td> \n",
    "<td>0</td> \n",
    "<td>F</td> \n",
    "</tr>\n",
    " </tbody> </table>"
   ]
  },
  {
   "cell_type": "markdown",
   "metadata": {},
   "source": [
    "## <font color=\"lightgreen\"><strong>Import Modules</strong> </font>"
   ]
  },
  {
   "cell_type": "code",
   "execution_count": 5,
   "metadata": {},
   "outputs": [],
   "source": [
    "import pandas as pd\n",
    "import numpy as np\n",
    "import random"
   ]
  },
  {
   "cell_type": "markdown",
   "metadata": {},
   "source": [
    " <h3>Bootstrap Methods</h3>\n",
    " <h5><strong>Inputs:</strong><h5>\n",
    "    <ul>\n",
    "       <li>\n",
    "           List of each individual row from the Dataframe\n",
    "        </li>\n",
    "        <li>\n",
    "            Bootstrap Dataset\n",
    "        </li>\n",
    "    </ul>"
   ]
  },
  {
   "cell_type": "code",
   "execution_count": 6,
   "metadata": {},
   "outputs": [],
   "source": [
    "def boot(rows,bdf):\n",
    "    for x in range(len(rows)):\n",
    "        bdf.loc[x] = random.choice(rows)\n",
    "    return bdf\n",
    "\n",
    "def verify_boot(rows,bdf,new_bdf):\n",
    "    # We are going to verify if the bootstrap is different from the original\n",
    "\t##  If the num(trues) == num(rows) then original dataset = bootstrap\n",
    "\t# df['bag'] = np.where(df['ID'] == bdf['ID'],'True','False')\n",
    "\tcheck_list = np.unique(bdf['ID'])\n",
    "\n",
    "\n",
    "\t# Check if the bootstrap is the same as the original dataset\n",
    "\twhile(len(check_list) >= nrows):\n",
    "\t\tnew_bdf = boot(rows,bdf)\n",
    "\n",
    "\treturn new_bdf\n",
    "    "
   ]
  },
  {
   "cell_type": "markdown",
   "metadata": {},
   "source": [
    "<h4 style=\"color:lightgreen\">Run method </h4>"
   ]
  },
  {
   "cell_type": "code",
   "execution_count": 10,
   "metadata": {},
   "outputs": [
    {
     "name": "stdout",
     "output_type": "stream",
     "text": [
      "   ID  P  R  Q Class\n",
      "0  20  0  0  1     T\n",
      "1  22  2  0  0     F\n",
      "2  23  1  1  2     T\n",
      "3  20  0  0  1     T\n"
     ]
    }
   ],
   "source": [
    "if __name__ == \"__main__\":\n",
    "    df = pd.read_csv(\"rajin.csv\",header=None,names=['ID','P','R','Q','Class'])\n",
    "\n",
    "    # Bootstrap dataset\n",
    "    # Python pointers are going to change df every time we change df\n",
    "    #bdf = df\n",
    "    bdf = pd.read_csv(\"rajin.csv\",header=None,names=['ID','P','R','Q','Class'])\n",
    "\n",
    "    #number of rows\n",
    "    nrows = df.shape[0]\n",
    "    rows = [df.iloc[x] for x in range(nrows)]\n",
    "    new_bdf = boot(rows,bdf)\n",
    "    new_bdf = verify_boot(rows,bdf,new_bdf)\n",
    "    print(new_bdf)\n"
   ]
  },
  {
   "cell_type": "code",
   "execution_count": null,
   "metadata": {},
   "outputs": [],
   "source": []
  }
 ],
 "metadata": {
  "kernelspec": {
   "display_name": "Python 3",
   "language": "python",
   "name": "python3"
  },
  "language_info": {
   "codemirror_mode": {
    "name": "ipython",
    "version": 3
   },
   "file_extension": ".py",
   "mimetype": "text/x-python",
   "name": "python",
   "nbconvert_exporter": "python",
   "pygments_lexer": "ipython3",
   "version": "3.6.3"
  }
 },
 "nbformat": 4,
 "nbformat_minor": 4
}
