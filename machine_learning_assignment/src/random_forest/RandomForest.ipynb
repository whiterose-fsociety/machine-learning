{
 "cells": [
  {
   "cell_type": "markdown",
   "metadata": {},
   "source": [
    "<h2 style=\"color:lightgreen\">Random Forests</h2>\n"
   ]
  },
  {
   "cell_type": "code",
   "execution_count": 2,
   "metadata": {},
   "outputs": [],
   "source": [
    "from train import *\n",
    "from accuracy import *\n",
    "import random\n",
    "from statistics import mode\n",
    "import traceback\n",
    "import seaborn as sn\n",
    "import matplotlib.pyplot as plt\n"
   ]
  },
  {
   "cell_type": "markdown",
   "metadata": {},
   "source": [
    "<h3> Dataset Management </h3>\n",
    "\n",
    "<div>\n",
    "<h4 style=\"color:gray;\" >\n",
    "The dataset contains a few rows and columns with missing values. The big disadvantage is that the evaluation of the model, in regards to CART(Classication and Regression Trees), is subject to dramatic changes with slight manipulation of data. It is ,infact, the very reason why decision trees are not used in instances where the table is mallaeble. However, since the table has a few of those missing values, we decided to just ignore them completely without compromising the accuracy of the model</h4>\n",
    "    \n",
    "</div>"
   ]
  },
  {
   "cell_type": "code",
   "execution_count": 3,
   "metadata": {},
   "outputs": [],
   "source": [
    "class Random_Forest:\n",
    "    def __init__(self):\n",
    "        self.p_features = [\"Irradiat\",\"Age\",\"Menopause\",\"Tumor-Size\",\"Inv-Node\",\"Node-Caps\",\"Deg-Malig\",\"Breast\",\"Breast-Quad\",\"Class\"]\n",
    "        self.missing_values = [\"Node-Caps\",\"Breast-Quad\"]\n",
    "        self.missing_value = self.missing_values[0]\n",
    "        self.trees = 20\n",
    "        \n",
    "        \n",
    "    def fill_most(self,dataset):\n",
    "        node_caps_top =  dataset['Node-Caps'].describe()['top']\n",
    "        breast_quad_top = dataset['Breast-Quad'].describe()['top']\n",
    "        tops = [node_caps_top,breast_quad_top]\n",
    "        for missing_value,top in zip(self.missing_values,tops):\n",
    "            if dataset[missing_value].isnull().sum() > 0:\n",
    "                dataset[missing_value].replace(np.NaN,top,inplace=True)\n",
    "        return dataset"
   ]
  },
  {
   "cell_type": "code",
   "execution_count": 4,
   "metadata": {},
   "outputs": [],
   "source": [
    "def organize_dataset(csv,features,p_features):\n",
    "        dataset = pd.read_csv(csv, header=None, names=features)\n",
    "        if True in [\"?\" in list(dataset[x].unique()) for x in dataset.columns]:\n",
    "            dataset = dataset[features].replace(\"?\", np.NaN)\n",
    "        return dataset[p_features]\n",
    "    \n",
    "def reorganize_dataset(dataset,missing_value):\n",
    "        dataset = dataset.drop('Class', 1)\n",
    "        new_features = list(dataset.columns)\n",
    "        f_index = new_features.index(missing_value)\n",
    "        new_features[f_index], new_features[-1] = new_features[-1], new_features[f_index]\n",
    "        return new_features    \n",
    "\n",
    "def drop_values(dataset):\n",
    "    return dataset.dropna(how=\"any\").reset_index(drop=True)\n",
    "    \n",
    "    \n",
    "def split_reorganized_dataset(dataset,missing_value):\n",
    "        train_filter = dataset[missing_value] != \"?\"\n",
    "        test_filter = dataset[missing_value] == \"?\"\n",
    "        train_dataset = dataset[train_filter]\n",
    "        test_dataset = dataset[test_filter]\n",
    "        train_class_values = train_dataset.loc[:, 'Class']\n",
    "        test_class_values = test_dataset.loc[:, 'Class']\n",
    "        return train_dataset, test_dataset, train_class_values, test_class_values\n",
    "\n",
    "def input_value_into_test_dataset(x_test,missing_value,predicted_values):\n",
    "        dataset = x_test.drop(missing_value, 1)\n",
    "        cols = len(x_test.columns)\n",
    "        dataset.insert(cols - 1, missing_value, predicted_values)\n",
    "        return dataset\n",
    "    \n",
    "def merge_datasets(x_train,x_test,c_train,c_test,re_features,p_features,missed_value):\n",
    "        x_train = x_train[re_features]\n",
    "        x_test = x_test[re_features]\n",
    "        model = ID3(x_train,x_train)\n",
    "        predicted_values = predict_dataset(model,x_test)\n",
    "        new_xtest = input_value_into_test_dataset(x_test,missed_value,predicted_values)\n",
    "        new_training_data = pd.concat([x_train, c_train], axis=1)\n",
    "        new_testing_data = pd.concat([new_xtest, c_test], axis=1)\n",
    "        new_dataset = pd.concat([new_training_data, new_testing_data], axis=0)\n",
    "        return new_dataset.sort_index()[p_features]\n",
    "    \n",
    "def split_dataset(dataset):\n",
    "    split = len(dataset) * 70//100\n",
    "    train_data = dataset[:split]\n",
    "    test_data = dataset[split:]\n",
    "    return train_data,test_data"
   ]
  },
  {
   "cell_type": "code",
   "execution_count": 5,
   "metadata": {},
   "outputs": [],
   "source": [
    "org_features = [\"Class\",\"Age\",\"Menopause\",\"Tumor-Size\",\"Inv-Node\",\"Node-Caps\",\"Deg-Malig\",\"Breast\",\"Breast-Quad\",\"Irradiat\"]\n",
    "features = [\"Irradiat\",\"Age\",\"Menopause\",\"Tumor-Size\",\"Inv-Node\",\"Node-Caps\",\"Deg-Malig\",\"Breast\",\"Breast-Quad\"]\n",
    "features_wc = [\"Irradiat\",\"Age\",\"Menopause\",\"Tumor-Size\",\"Inv-Node\",\"Node-Caps\",\"Deg-Malig\",\"Breast\",\"Breast-Quad\",\"Class\"]\n",
    "dataset = pd.read_csv(\"breast-cancer.csv\",sep=\",\",header=None,names=org_features)\n",
    "\n",
    "# Swap last column and first column - ID3 algorithm takes last column as class\n",
    "ndataset = dataset[features_wc]\n",
    "ndataset = ndataset.sample(frac=1)\n",
    "filter_dataset = ndataset.replace(\"?\",np.NaN)\n",
    "\n",
    "\n",
    "# Remove all of the NaN values\n",
    "drop_filter_dataset = filter_dataset.dropna(how=\"any\").reset_index(drop=True)"
   ]
  },
  {
   "cell_type": "code",
   "execution_count": 6,
   "metadata": {},
   "outputs": [],
   "source": [
    "features = [\"Class\",\"Age\",\"Menopause\",\"Tumor-Size\",\"Inv-Node\",\"Node-Caps\",\"Deg-Malig\",\"Breast\",\"Breast-Quad\",\"Irradiat\"]\n",
    "p_features = [\"Irradiat\",\"Age\",\"Menopause\",\"Tumor-Size\",\"Inv-Node\",\"Node-Caps\",\"Deg-Malig\",\"Breast\",\"Breast-Quad\",\"Class\"]\n",
    "csv = 'breast-cancer.csv'\n",
    "rr = Random_Forest()\n",
    "dataset = pd.read_csv(csv,header=None,names=features)[p_features]\n",
    "mix_dataset = dataset.sample(frac=1)\n",
    "\n",
    "# fill most dataset\n",
    "fill_most_dataset = rr.fill_most(organize_dataset(csv,features,p_features))\n",
    "mix_fill_most_dataset = fill_most_dataset.sample(frac=1)\n",
    "\n",
    "#drop dataset\n",
    "drop_dataset = drop_values(organize_dataset(csv,features,p_features))\n",
    "mix_drop_dataset = drop_dataset.sample(frac=1)\n",
    "\n",
    "x_train, x_test, c_train, c_test = split_reorganized_dataset(dataset,\"Node-Caps\")\n",
    "re_features = reorganize_dataset(dataset,\"Node-Caps\")\n",
    "classifier_dataset = merge_datasets(x_train,x_test,c_train,c_test,re_features,p_features,\"Node-Caps\")\n",
    "mix_classifier_dataset = classifier_dataset.sample(frac=1)\n"
   ]
  },
  {
   "cell_type": "code",
   "execution_count": 7,
   "metadata": {},
   "outputs": [],
   "source": [
    "#Original Dataset\n",
    "train_mix_dataset,test_mix_dataset = split_dataset(mix_dataset)\n",
    "\n",
    "# Drop dataset\n",
    "train_mix_drop_dataset,test_mix_drop_dataset = split_dataset(mix_drop_dataset)\n",
    "\n",
    "#Fill Most Dataset\n",
    "train_mix_fill_most_dataset,test_mix_fill_most_dataset = split_dataset(mix_fill_most_dataset)\n",
    "\n",
    "#Classifier Dataset\n",
    "train_mix_classifier_dataset,test_mix_classifier_dataset = split_dataset(mix_classifier_dataset)\n"
   ]
  },
  {
   "cell_type": "code",
   "execution_count": 8,
   "metadata": {},
   "outputs": [],
   "source": [
    "def split_data(dataset):\n",
    "\tsplit = len(dataset) * 75//100\n",
    "\ttrain = dataset.iloc[:split].reset_index(drop=True)\n",
    "\ttest = dataset.iloc[split:].reset_index(drop=True)\n",
    "\treturn [train,test]\n"
   ]
  },
  {
   "cell_type": "code",
   "execution_count": 9,
   "metadata": {},
   "outputs": [],
   "source": [
    "def random_forest(dataset,num_trees):\n",
    "\trandom_forest = []\n",
    "\tfor i in range(num_trees):\n",
    "\t\tbootstrap_sample = dataset.sample(frac=1,replace=True)\n",
    "\n",
    "\t\tbootstrap_train = split_data(bootstrap_sample)[0]\n",
    "\t\tbootstrap_test = split_data(bootstrap_sample)[1]\n",
    "\n",
    "\n",
    "\t\ttree = decision_tree(bootstrap_train)\n",
    "\t\trandom_forest.append(tree)\n",
    "\n",
    "\treturn random_forest\n"
   ]
  },
  {
   "cell_type": "markdown",
   "metadata": {},
   "source": [
    "<h3>Random Trees use a technique called bagging , or bootstrap aggregration, which decides it prediction based on which class occurs the most within a feature sppace</h3>"
   ]
  },
  {
   "cell_type": "code",
   "execution_count": 10,
   "metadata": {},
   "outputs": [],
   "source": [
    "def get_mode(leaves):\n",
    "\tunique_values = np.unique(leaves,return_counts=True)[1]\n",
    "\tans = True\n",
    "\tvalue = unique_values[0]\n",
    "\tfor x in unique_values:\n",
    "\t\tif x != value:\n",
    "\t\t\tans  = False \n",
    "\tif ans == True:\n",
    "\t\treturn leaves[0]\n",
    "\telse:\n",
    "\t\treturn mode(leaves)\n",
    "\n",
    "def get_leaves(tree,features=[]):\n",
    "\n",
    "\tfor k,v in tree.items():\n",
    "\t\tif isinstance(v,dict):\n",
    "\t\t\tget_leaves(v,features)\n",
    "\t\telse:\n",
    "\t\t\t# k is the ket\n",
    "\t\t\tfeatures.append(v)\n",
    "\n",
    "\treturn features"
   ]
  },
  {
   "cell_type": "code",
   "execution_count": 11,
   "metadata": {},
   "outputs": [],
   "source": [
    "########################################## Predictions ###########################################################\n",
    "def predict(query,model,default = \"no-recurrence-events\"):\n",
    "    events = [\"no-recurrence-events\",\"recurrence-events\"]\n",
    "    if isinstance(model,str):\n",
    "    \treturn model\n",
    "    else:\n",
    "\t    for key in list(query.keys()):\n",
    "\t    \t#Check if the feature name exists in the model features\n",
    "\t        if key in list(model.keys()):\n",
    "\t            try:\n",
    "\t            \t# Attempt to get the value of the \"first\" feature\n",
    "\t                result = model[key][query[key]]\n",
    "\t            except:\n",
    "\t            \t#If the model does have the value, return 1\n",
    "\t            \t#Return down the stack trace\n",
    "\t                return random.choice(events)\n",
    "\t            #Get the resulting model or value\n",
    "\t            #If it's model then keep going\n",
    "\t            #else just return the result\n",
    "\t            result = model[key][query[key]]\n",
    "\t            if isinstance(result,dict):\n",
    "\t                return predict(query,result)\n",
    "\t            else:\n",
    "\t                return result\n",
    "\n",
    "def predict_dataset(model,test_data):\n",
    "\tprediction_values = []\n",
    "\tqueries = test_data.iloc[:,:-1].to_dict(orient=\"records\")\n",
    "\tfor i in range(len(test_data)):\n",
    "\t\tprediction_values.append(predict(queries[i],model))\t\n",
    "\treturn prediction_values\n",
    "\n",
    "def query_prediction(forest,query):\n",
    "\tpredictions = []\n",
    "\tfor tree in forest:\n",
    "\t\tpredictions.append(predict(query,tree))\n",
    "\treturn get_mode(predictions)\n",
    "\n",
    "\n",
    "def forest_predict(forest,queries):\n",
    "\tforest_pred = []\n",
    "\tfor row in range(len(queries)):\n",
    "\t\tforest_pred.append(query_prediction(forest,queries[row]))\n",
    "\treturn forest_pred\n",
    "\n",
    "\n",
    "# def dec_mode(model,testing_data):\n",
    "# \treturn predict_dataset(model.)\n",
    "\n",
    "def ensemble(forest,testing_data):\n",
    "\tforest_mode = []\n",
    "\tfor tree in forest:\n",
    "\t\tpred = predict_dataset(tree,testing_data)\n",
    "\t\tmodel_mode = get_mode(pred)\n",
    "\t\tforest_mode.append(model_mode)\n",
    "\treturn forest_mode"
   ]
  },
  {
   "cell_type": "code",
   "execution_count": 12,
   "metadata": {},
   "outputs": [],
   "source": [
    "#Accuracy\n",
    "#Assumes cost\n",
    "def accuracy(TP,TN,FP,FN):\n",
    "\tnumerator = TP + TN\n",
    "\tdenominator = TP + TN + FP + FN\n",
    "\treturn numerator/denominator\n",
    "\t\n",
    "\n",
    "# When it actually says, i.e real data\n",
    "#how often does it predict yes\n",
    "def recall(TP,FN):\n",
    "  return TP/(TP+FN)\n",
    "\n",
    "\n",
    "#When it predicts yes , how often\n",
    "def precision(TP,FP):\n",
    "\treturn TP/(TP+FP)\n",
    "\n",
    "\n",
    "\n",
    "\n",
    "def f_measure(recall,precision):\n",
    "\tnumerator = 2* recall * precision\n",
    "\tdenominator = recall + precision\n",
    "\treturn numerator / denominator\n",
    "\n",
    "\n",
    "def convert_first(class_list):\n",
    "\tclass_dict = {\"recurrence-events\":1,\"no-recurrence-events\":0}\n",
    "\tclass_list = [class_dict[item] for item in class_list]\n",
    "\treturn class_list\n",
    "\n",
    "def convert(class_list):\n",
    "\tclass_unique = np.unique(class_list)\n",
    "\tclass_dict = {}\n",
    "\tfor index in range(len(class_unique)):\n",
    "\t\tclass_dict[class_unique[index]] = index\n",
    "\n",
    "\tclass_list =  [class_dict[item] for item in class_list]\n",
    "\treturn class_list\n",
    "\n",
    "\n",
    "# def forest_accuracy(forest,queries,testing_data):\n",
    "#     forest_pred = forest_predict(forest,queries)\n",
    "#     convert_pred = convert(forest_pred)\n",
    "#     actual = list(testing_data.iloc[:,-1])\n",
    "#     convert_act = convert(actual)\n",
    "#     data = {\"y_act\":convert_act,\"y_pred\":convert_pred}\n",
    "#     df = pd.DataFrame(data,columns = [\"y_act\",\"y_pred\"])\n",
    "#     conf_matrix = pd.crosstab(df[\"y_act\"],df[\"y_pred\"],rownames=[\"Actual\"],colnames=[\"Predicted\"],margins=True,margins_name=\"Total\")\n",
    "# #     return conf_matrix\n",
    "# \tsum_check = conf_matrix[0][0] + conf_matrix[0][1]\n",
    "# \tif sum_check != len(testing_data):\n",
    "# \t\tTP = conf_matrix[1][1]\n",
    "# \t\tTN = conf_matrix[0][0]\n",
    "# \t\tFP = conf_matrix[1][0]\n",
    "# \t\tFN = conf_matrix[0][1]\n",
    "\n",
    "# \t\t########################## Calculations ################################################\n",
    "# \t\tacc = accuracy(TP,TN,FP,FN)\n",
    "# \t\trecall_data = recall(TP,FN)\n",
    "# \t\tprecision_data = precision(TP,FP)\n",
    "# \t\tf_measure_data = f_measure(recall_data,precision_data)\n",
    "# \t\t########################## Calculations ################################################\n",
    "# \t\treturn ({\"Accuracy\":acc, \"Recall\":recall_data,\"Precision\":precision_data,\"F Measure\":f_measure_data},conf_matrix)\n",
    "# \telse:\n",
    "#         return conf_matrix\n",
    "\n",
    "    \n",
    "    \n",
    "\n",
    "def forest_accuracy(forest,queries,testing_data):\n",
    "    forest_pred = forest_predict(forest,queries)\n",
    "    convert_pred = convert(forest_pred)\n",
    "    actual = list(testing_data.iloc[:,-1])\n",
    "    convert_act = convert(actual)\n",
    "    data = {\"y_act\":convert_act,\"y_pred\":convert_pred}\n",
    "    df = pd.DataFrame(data,columns = [\"y_act\",\"y_pred\"])\n",
    "    conf_matrix = pd.crosstab(df[\"y_act\"],df[\"y_pred\"],rownames=[\"Actual\"],colnames=[\"Predicted\"],margins=True,margins_name=\"Total\")\n",
    "\n",
    "    TP = conf_matrix[1][1]\n",
    "    TN = conf_matrix[0][0]\n",
    "    FP = conf_matrix[1][0]\n",
    "    FN = conf_matrix[0][1]\n",
    "\n",
    "    ########################## Calculations ################################################\n",
    "    acc = accuracy(TP,TN,FP,FN)\n",
    "    recall_data = recall(TP,FN)\n",
    "    precision_data = precision(TP,FP)\n",
    "    f_measure_data = f_measure(recall_data,precision_data)\n",
    "    ########################## Calculations ################################################\n",
    "    return ({\"Accuracy\":acc, \"Recall\":recall_data,\"Precision\":precision_data,\"F Measure\":f_measure_data},conf_matrix)\n",
    "\n",
    "def show_heatmap(conf_matrix):\n",
    "\tsn.heatmap(conf_matrix,annot=True)\n",
    "\tplt.title(\"Breast Cancer: Confusion Matrix\")\n",
    "\tplt.show()\n",
    "\n"
   ]
  },
  {
   "cell_type": "code",
   "execution_count": 13,
   "metadata": {},
   "outputs": [],
   "source": [
    "fs_features =  [\"Tumor-Size\",\"Inv-Node\",\"Node-Caps\",\"Irradiat\",\"Class\"]\n",
    "fs_classifier = mix_classifier_dataset[fs_features]\n",
    "fs_train_mix_drop_dataset,fs_test_mix_drop_dataset = split_dataset(mix_drop_dataset[fs_features])\n",
    "fs_train_mix_fill_most_dataset,fs_test_mix_fill_most_dataset = split_dataset(mix_fill_most_dataset[fs_features])\n",
    "fs_train_mix_classifier,fs_test_mix_classifier = split_dataset(mix_classifier_dataset[fs_features])"
   ]
  },
  {
   "cell_type": "code",
   "execution_count": 15,
   "metadata": {},
   "outputs": [
    {
     "name": "stdout",
     "output_type": "stream",
     "text": [
      "{'Accuracy': 0.7261904761904762, 'Recall': 0.2222222222222222, 'Precision': 0.75, 'F Measure': 0.34285714285714286}\n",
      "Accuracy:72.62 %\n"
     ]
    },
    {
     "data": {
      "image/png": "[encoded data removed]",
      "text/plain": [
       "<Figure size 432x288 with 2 Axes>"
      ]
     },
     "metadata": {},
     "output_type": "display_data"
    },
    {
     "name": "stdout",
     "output_type": "stream",
     "text": [
      "{'Accuracy': 0.7738095238095238, 'Recall': 0.6296296296296297, 'Precision': 0.6538461538461539, 'F Measure': 0.6415094339622641}\n",
      "Accuracy:77.38 %\n"
     ]
    },
    {
     "data": {
      "image/png": "[encoded data removed]",
      "text/plain": [
       "<Figure size 432x288 with 2 Axes>"
      ]
     },
     "metadata": {},
     "output_type": "display_data"
    }
   ],
   "source": [
    "# training_data = split_data(drop_dataset)[0]\n",
    "# testing_data = split_data(drop_dataset)[1]\n",
    "drop_queries = test_mix_drop_dataset.iloc[:,:-1].to_dict(orient=\"records\")\n",
    "drop_forest = random_forest(train_mix_drop_dataset,rr.trees)\n",
    "drop_accuracy = forest_accuracy(drop_forest,drop_queries,test_mix_drop_dataset)\n",
    "percent = np.round(drop_accuracy[0]['Accuracy'] * 100,2)\n",
    "print(drop_accuracy[0])\n",
    "print(\"Accuracy:{} %\".format(percent))\n",
    "show_heatmap(drop_accuracy[1])\n",
    "\n",
    "\n",
    "fs_drop_queries = fs_test_mix_drop_dataset.iloc[:,:-1].to_dict(orient=\"records\")\n",
    "fs_drop_forest = random_forest(fs_test_mix_drop_dataset,rr.trees)\n",
    "fs_drop_accuracy = forest_accuracy(fs_drop_forest,fs_drop_queries,fs_test_mix_drop_dataset)\n",
    "percent = np.round(fs_drop_accuracy[0]['Accuracy'] * 100,2)\n",
    "print(fs_drop_accuracy[0])\n",
    "print(\"Accuracy:{} %\".format(percent))\n",
    "show_heatmap(fs_drop_accuracy[1])\n"
   ]
  },
  {
   "cell_type": "code",
   "execution_count": 16,
   "metadata": {},
   "outputs": [
    {
     "name": "stdout",
     "output_type": "stream",
     "text": [
      "{'Accuracy': 0.6627906976744186, 'Recall': 0.37037037037037035, 'Precision': 0.45454545454545453, 'F Measure': 0.40816326530612246}\n",
      "Accuracy:66.28 %\n"
     ]
    },
    {
     "data": {
      "image/png": "[encoded data removed]",
      "text/plain": [
       "<Figure size 432x288 with 2 Axes>"
      ]
     },
     "metadata": {},
     "output_type": "display_data"
    },
    {
     "name": "stdout",
     "output_type": "stream",
     "text": [
      "{'Accuracy': 0.6511627906976745, 'Recall': 0.0, 'Precision': 0.0, 'F Measure': nan}\n",
      "Accuracy:66.28 %\n"
     ]
    },
    {
     "name": "stderr",
     "output_type": "stream",
     "text": [
      "/home/molefe/anaconda3/lib/python3.6/site-packages/ipykernel_launcher.py:25: RuntimeWarning: invalid value encountered in double_scalars\n"
     ]
    },
    {
     "data": {
      "image/png": "[encoded data removed]",
      "text/plain": [
       "<Figure size 432x288 with 2 Axes>"
      ]
     },
     "metadata": {},
     "output_type": "display_data"
    }
   ],
   "source": [
    "fill_queries = test_mix_fill_most_dataset.iloc[:,:-1].to_dict(orient=\"records\")\n",
    "fill_forest = random_forest(train_mix_fill_most_dataset,rr.trees)\n",
    "fill_accuracy = forest_accuracy(fill_forest,fill_queries,test_mix_fill_most_dataset)\n",
    "percent = np.round(fill_accuracy[0]['Accuracy'] * 100,2)\n",
    "print(fill_accuracy[0])\n",
    "print(\"Accuracy:{} %\".format(percent))\n",
    "show_heatmap(fill_accuracy[1])\n",
    "\n",
    "\n",
    "\n",
    "fs_fill_queries = fs_test_mix_fill_most_dataset.iloc[:,:-1].to_dict(orient=\"records\")\n",
    "fs_fill_forest = random_forest(fs_train_mix_fill_most_dataset,rr.trees)\n",
    "fs_fill_accuracy = forest_accuracy(fs_fill_forest,fs_fill_queries,fs_test_mix_fill_most_dataset)\n",
    "fs_fill_most_percent = np.round(fs_fill_accuracy[0]['Accuracy'] * 100,2)\n",
    "print(fs_fill_accuracy[0])\n",
    "print(\"Accuracy:{} %\".format(percent))\n",
    "show_heatmap(fs_fill_accuracy[1])"
   ]
  },
  {
   "cell_type": "code",
   "execution_count": 17,
   "metadata": {},
   "outputs": [
    {
     "name": "stdout",
     "output_type": "stream",
     "text": [
      "{'Accuracy': 0.7790697674418605, 'Recall': 0.32, 'Precision': 0.8, 'F Measure': 0.45714285714285713}\n",
      "Accuracy:77.91 %\n"
     ]
    },
    {
     "data": {
      "image/png": "[encoded data removed]",
      "text/plain": [
       "<Figure size 432x288 with 2 Axes>"
      ]
     },
     "metadata": {},
     "output_type": "display_data"
    },
    {
     "name": "stdout",
     "output_type": "stream",
     "text": [
      "{'Accuracy': 0.7558139534883721, 'Recall': 0.24, 'Precision': 0.75, 'F Measure': 0.36363636363636365}\n",
      "Accuracy:75.58 %\n"
     ]
    },
    {
     "data": {
      "image/png": "[encoded data removed]",
      "text/plain": [
       "<Figure size 432x288 with 2 Axes>"
      ]
     },
     "metadata": {},
     "output_type": "display_data"
    }
   ],
   "source": [
    "cls_queries = test_mix_classifier_dataset.iloc[:,:-1].to_dict(orient=\"records\")\n",
    "cls_forest = random_forest(classifier_dataset,rr.trees)\n",
    "cls_accuracy = forest_accuracy(cls_forest,cls_queries,test_mix_classifier_dataset)\n",
    "percent = np.round(cls_accuracy[0]['Accuracy'] * 100,2)\n",
    "print(cls_accuracy[0])\n",
    "print(\"Accuracy:{} %\".format(percent))\n",
    "show_heatmap(cls_accuracy[1])\n",
    "\n",
    "\n",
    "\n",
    "fs_cls_queries = fs_test_mix_classifier.iloc[:,:-1].to_dict(orient=\"records\")\n",
    "fs_cls_forest = random_forest(fs_classifier,rr.trees)\n",
    "fs_cls_accuracy = forest_accuracy(fs_cls_forest,fs_cls_queries,fs_test_mix_classifier)\n",
    "fs_cls_percent = np.round(fs_cls_accuracy[0]['Accuracy'] * 100,2)\n",
    "print(fs_cls_accuracy[0])\n",
    "print(\"Accuracy:{} %\".format(fs_cls_percent))\n",
    "show_heatmap(fs_cls_accuracy[1])"
   ]
  },
  {
   "cell_type": "code",
   "execution_count": null,
   "metadata": {},
   "outputs": [],
   "source": []
  }
 ],
 "metadata": {
  "kernelspec": {
   "display_name": "Python 3",
   "language": "python",
   "name": "python3"
  },
  "language_info": {
   "codemirror_mode": {
    "name": "ipython",
    "version": 3
   },
   "file_extension": ".py",
   "mimetype": "text/x-python",
   "name": "python",
   "nbconvert_exporter": "python",
   "pygments_lexer": "ipython3",
   "version": "3.6.3"
  }
 },
 "nbformat": 4,
 "nbformat_minor": 4
}
