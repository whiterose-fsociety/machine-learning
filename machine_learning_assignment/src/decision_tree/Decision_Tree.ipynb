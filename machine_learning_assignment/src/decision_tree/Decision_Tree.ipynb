{
 "cells": [
  {
   "cell_type": "markdown",
   "metadata": {},
   "source": [
    "<h2 style=\"color:lightgreen\">Decision Tree: From Scratch</h2>\n",
    "\n",
    "<h3> Collection of methods that handle different scenarios for dirrent representations of data </h3>\n",
    "\n",
    "<h4 style=\"color:lightblue\"> #TODO - Launch on huge Datasets </h4>"
   ]
  },
  {
   "cell_type": "markdown",
   "metadata": {},
   "source": [
    "# Decision Tree Building\n",
    "\n",
    "## Import libraries"
   ]
  },
  {
   "cell_type": "code",
   "execution_count": 45,
   "metadata": {},
   "outputs": [],
   "source": [
    "import pandas as pd\n",
    "import numpy as np\n",
    "from statistics import mode"
   ]
  },
  {
   "cell_type": "markdown",
   "metadata": {},
   "source": [
    "<h3 style=\"color:lightgreen\">Entropy methods</h3>\n",
    "<h4 style=\"color:lightblue\">Free to edit </h4>"
   ]
  },
  {
   "cell_type": "markdown",
   "metadata": {},
   "source": [
    "<h3 style=\"color:pink\">Inputs</h3>\n",
    "<h4>Option of entering just dataframe or both dataframe and feature name(s)</h4>\n",
    "<h5>Pandas Dataframe</h5>\n",
    "<h5>Feature/s</h5>"
   ]
  },
  {
   "cell_type": "markdown",
   "metadata": {},
   "source": [
    "<h3 style=\"color:lightblue\">One line implementations of entropy</h3>"
   ]
  },
  {
   "cell_type": "code",
   "execution_count": 46,
   "metadata": {},
   "outputs": [],
   "source": [
    "def lazy_entropy(dataset,column):\n",
    "\tentropy = abs(sum([(x/sum(list(dataset.iloc[:,column].value_counts())))*np.log2(x/sum(list(dataset.iloc[:,column].value_counts()))) for x in list(dataset.iloc[:,column].value_counts())]))\n",
    "\treturn entropy"
   ]
  },
  {
   "cell_type": "code",
   "execution_count": 47,
   "metadata": {},
   "outputs": [],
   "source": [
    "##Second implementation\n",
    "def lazy_entropy(dataset,column):\n",
    "\tentropy = abs(sum([(x/sum(list(dataset.iloc[:,column].value_counts())))*np.log2(x/sum(list(dataset.iloc[:,column].value_counts()))) for x in list(dataset.iloc[:,column].value_counts())]))\n",
    "\treturn entropy\n"
   ]
  },
  {
   "cell_type": "code",
   "execution_count": 48,
   "metadata": {},
   "outputs": [],
   "source": [
    "# Input: Column values of a pandas Dataframe\n",
    "def entropy_feature(dataset,column):\n",
    "  unique_values = list(dataset[column].value_counts())\n",
    "  probs = [x/sum(unique_values) for x in unique_values]\n",
    "  # [-0.6428571428571429, -0.35714285714285715]\n",
    "  entropy = sum([prob*np.log2(prob) for prob in probs])\n",
    "  return abs(entropy)"
   ]
  },
  {
   "cell_type": "markdown",
   "metadata": {},
   "source": [
    "<h4>Pass in dataset, assumes that last column is the target class </h4>"
   ]
  },
  {
   "cell_type": "code",
   "execution_count": 49,
   "metadata": {},
   "outputs": [],
   "source": [
    "def entropy(dataset):\n",
    "  unique_values =  list(dataset.iloc[:,-1].value_counts())\n",
    "  probs = [x/sum(unique_values) for x in unique_values]\n",
    "  entropy = sum([prob*np.log2(prob) for prob in probs])\n",
    "  return abs(entropy)"
   ]
  },
  {
   "cell_type": "markdown",
   "metadata": {},
   "source": [
    "<h3 style=\"color:pink\">Information Gain Methods </h3>"
   ]
  },
  {
   "cell_type": "code",
   "execution_count": 50,
   "metadata": {},
   "outputs": [],
   "source": [
    "def info_gain_feature(dataset,feature):\n",
    "\t# Original dataset\n",
    "\tunique_values = list(dataset[feature].value_counts())\n",
    "\t# Names of the features\n",
    "\tunique_index = dataset[feature].value_counts().index.tolist()\n",
    "\n",
    "\n",
    "\n",
    "\n",
    "\tinfo_gain = 0\n",
    "\tdata_entropy = entropy(dataset)\n",
    "\tdata_size = dataset.shape[0]\n",
    "\n",
    "\tentropies = []\n",
    "\t# Finds Entropies and returns list of entropy and size\n",
    "\tfor unique_feature in unique_index:\n",
    "\t\tfilt = dataset[feature]\t== unique_feature\n",
    "\t\t# Create new dataset according to feature split\n",
    "\t\tfeature_dataset = dataset[filt]\t\n",
    "\t\t# [([entropies,size],[])]\n",
    "\t\tentropies.append((entropy(feature_dataset),feature_dataset.shape[0]))\n",
    "\n",
    "\n",
    "\tbranch_entropy = sum([ data[0] * data[1] for data in entropies])\n",
    "\tinfo_gain = data_entropy - branch_entropy/data_size\n",
    "\t\n",
    "\treturn info_gain"
   ]
  },
  {
   "cell_type": "code",
   "execution_count": 51,
   "metadata": {},
   "outputs": [],
   "source": [
    "def info_gains_features(dataset,features):\n",
    "\tinfo_gains = {}\n",
    "\tfeature_size = len(features)\n",
    "\tfor feature,size in zip(features,range(feature_size)):\n",
    "\t\tinfo_gains[feature] = info_gain_feature(dataset,feature)\n",
    "\treturn info_gains"
   ]
  },
  {
   "cell_type": "markdown",
   "metadata": {},
   "source": [
    "<h4 style=\"color:lightgreen\"> Second Implementation </h4>\n",
    "<p><strong>Returns a dictionary of information gains for each feature. Where key = column index in the table and value = information gain </strong></p>"
   ]
  },
  {
   "cell_type": "code",
   "execution_count": 52,
   "metadata": {},
   "outputs": [],
   "source": [
    "# Sample return  = {0: 0.24674981977443899, 1: 0.029222565658954647, 2: 0.15183550136234147, 3: 0.048127030408269267}\n",
    "def info_gains(dataset):\n",
    "\tcols = dataset.shape[1]\n",
    "\tinfo_gains = {}\n",
    "\tfor col in range(cols-1):\n",
    "\t\tunique_values = list(dataset.iloc[:,col].value_counts())\n",
    "\t\tunique_index = dataset.iloc[:,col].value_counts().index.tolist()\n",
    "\n",
    "\t\tinfo_gain = 0\n",
    "\t\tdata_entropy = entropy(dataset)\n",
    "\t\tdata_size = dataset.shape[0]\n",
    "\n",
    "\t\tentropies = []\n",
    "\n",
    "\t\tfor unique_feature in unique_index:\n",
    "\t\t\tfilt = dataset.iloc[:,col] == unique_feature\n",
    "\t\t\tfeature_dataset = dataset[filt]\n",
    "\t\t\tentropies.append((entropy(feature_dataset),feature_dataset.shape[0]))\n",
    "\n",
    "\t\tbranch_entropy = sum([ data[0] * data[1] for data in entropies])\n",
    "\t\tinfo_gain = data_entropy - branch_entropy/data_size\t\t\n",
    "\n",
    "\t\t# info_gains.append((info_gain,col))\n",
    "\t\tinfo_gains[col] = info_gain\n",
    "\treturn info_gains"
   ]
  },
  {
   "cell_type": "markdown",
   "metadata": {},
   "source": [
    "<h2 style=\"color:lightgray\">Find Highest Information Gain </h2>"
   ]
  },
  {
   "cell_type": "code",
   "execution_count": 53,
   "metadata": {},
   "outputs": [],
   "source": [
    "def best_attribute(gains):\n",
    "\tx  = []\n",
    "\tfor gain in gains.values():\n",
    "\t\tx.append(gain)\n",
    "\tm = max(x)\n",
    "\tindex = list(gains.keys())[list(gains.values()).index(m)]\n",
    "\treturn index"
   ]
  },
  {
   "cell_type": "markdown",
   "metadata": {},
   "source": [
    "<h2 style=\"color:lightgreen\"> Run Method to see the values of Information Gain</h2>"
   ]
  },
  {
   "cell_type": "markdown",
   "metadata": {},
   "source": [
    "<h3 style=\"color:lightblue\">Example with Feature Names given </h3>"
   ]
  },
  {
   "cell_type": "code",
   "execution_count": 54,
   "metadata": {},
   "outputs": [
    {
     "name": "stdout",
     "output_type": "stream",
     "text": [
      "Feature Column: Information  {'Outlook': 0.24674981977443899, 'Temperature': 0.029222565658954647, 'Humidity': 0.15183550136234147, 'Windy': 0.048127030408269267, 'Play': 0.94028595867063092}\n",
      "\n",
      "Feature Column Index Play\n"
     ]
    }
   ],
   "source": [
    "dataset = pd.read_csv(\"tennis.csv\",header=None,names=[\"Outlook\",\"Temperature\",\"Humidity\",\"Windy\",\"Play\"])\n",
    "features=[\"Outlook\",\"Temperature\",\"Humidity\",\"Windy\",\"Play\"]\n",
    "gains = info_gains_features(dataset,features)\n",
    "print(\"Feature Column: Information \",gains) # Dictionary\n",
    "print()\n",
    "print(\"Feature Column Index\" ,best_attribute(gains))"
   ]
  },
  {
   "cell_type": "markdown",
   "metadata": {},
   "source": [
    "<h3 style=\"color:lightgreen\">Example with only dataset given </h3>"
   ]
  },
  {
   "cell_type": "code",
   "execution_count": 55,
   "metadata": {},
   "outputs": [
    {
     "name": "stdout",
     "output_type": "stream",
     "text": [
      "Feature Column: Information  {0: 0.24674981977443899, 1: 0.029222565658954647, 2: 0.15183550136234147, 3: 0.048127030408269267}\n",
      "\n",
      "Feature Column Index 0\n"
     ]
    }
   ],
   "source": [
    "import pandas as pd\n",
    "import numpy as np\n",
    "dataset = pd.read_csv(\"tennis.csv\",header=None,names=[\"Outlook\",\"Temperature\",\"Humidity\",\"Windy\",\"Play\"])\n",
    "gains = info_gains(dataset)\n",
    "print(\"Feature Column: Information \",gains) # Dictionary\n",
    "print()\n",
    "print(\"Feature Column Index\" ,best_attribute(gains))"
   ]
  },
  {
   "cell_type": "markdown",
   "metadata": {},
   "source": [
    "<h2 style=\"color:pink\"> ID3 ALGORITHM</h2>\n",
    "<p><strong>ID3 is an algorithm that is mostly used to generate a decision tree , invented by <i>Ross Quinlan</i></strong></p>"
   ]
  },
  {
   "cell_type": "code",
   "execution_count": 56,
   "metadata": {},
   "outputs": [],
   "source": [
    "def ID3_features(sub_dataset,dataset,features,parent_node_target=None):\n",
    "\t#If target values have the same value\n",
    "\tif len(np.unique(sub_dataset.iloc[:,-1])) <=1 :\n",
    "\t\treturn np.unique(sub_dataset.iloc[:,-1])[0]\n",
    "\t#If sub_dataset is empty\t\n",
    "\telif len(sub_dataset) == 0:\n",
    "\t\treturn parent_node_target\n",
    "\n",
    "\t#If feature list is empty\n",
    "\telif len(features) == 0:\n",
    "\t\ttarget_dict = sub_dataset.iloc[:,-1].value_counts().to_dict()\n",
    "\t\treturn best_attribute(target_dict)\n",
    "\telse:\n",
    "\t\tparent_node_dict = sub_dataset.iloc[:,-1].value_counts().to_dict()\n",
    "\t\tparent_node_target = best_attribute(parent_node_dict)\n",
    "\t\tgains = info_gains_features(sub_dataset,features)\n",
    "\t\tbest_feature = best_attribute(gains)\n",
    "\n",
    "\t\ttree = {best_feature:{}}\n",
    "\n",
    "\n",
    "\t\tfeatures.remove(best_feature)\n",
    "\n",
    "\t\t# Grow a branch under the root\n",
    "\t\tfeature_values = sub_dataset[best_feature].value_counts().index.tolist()\n",
    "\t\tfor feature_value in feature_values:\n",
    "\t\t\tfilt = sub_dataset[best_feature] == feature_value\n",
    "\t\t\tsub = sub_dataset[filt]\n",
    "\t\t\tsubtree = ID3_features(sub,dataset,features,parent_node_target)\n",
    "\n",
    "\t\t\ttree[best_feature][feature_value] = subtree\n",
    "\n",
    "\t\treturn (tree)"
   ]
  },
  {
   "cell_type": "markdown",
   "metadata": {},
   "source": [
    "<p> <strong>Incase you don't have a list of features </strong></p>"
   ]
  },
  {
   "cell_type": "code",
   "execution_count": 57,
   "metadata": {},
   "outputs": [],
   "source": [
    "def ID3(sub_dataset,dataset):\n",
    "\tfeatures = list(dataset.columns)\n",
    "\tfeatures.remove(features[-1])\n",
    "\treturn ID3_features(sub_dataset,dataset,features)"
   ]
  },
  {
   "cell_type": "markdown",
   "metadata": {},
   "source": [
    "<h3 style=\"color:lightgreen\">Split the dataset into training and testing</h3>\n",
    "<p> Advisable to not create validating data, as we won't be pruning</p>"
   ]
  },
  {
   "cell_type": "code",
   "execution_count": 58,
   "metadata": {},
   "outputs": [],
   "source": [
    "import pandas as pd\n",
    "import numpy as np\n",
    "dataset = pd.read_csv(\"tennis.csv\",header=None,names=[\"Outlook\",\"Temperature\",\"Humidity\",\"Windy\",\"Play\"])\n",
    "#features=[\"Outlook\",\"Temperature\",\"Humidity\",\"Windy\"]\n",
    "split = len(dataset) * 50//100\n",
    "train_data = dataset.iloc[:split]\n",
    "test_data = dataset.iloc[split:]\n",
    "\n"
   ]
  },
  {
   "cell_type": "markdown",
   "metadata": {},
   "source": [
    "<h2 style=\"color:lightgreen\"> Building a Model</h2> "
   ]
  },
  {
   "cell_type": "code",
   "execution_count": 59,
   "metadata": {},
   "outputs": [
    {
     "name": "stdout",
     "output_type": "stream",
     "text": [
      "{'Outlook': {'Rainy': {'Windy': {'Weak': 'Yes', 'Strong': 'No'}}, 'Sunny': 'No', 'Overcast': 'Yes'}}\n"
     ]
    }
   ],
   "source": [
    "model = ID3(train_data,train_data)\n",
    "print(model)"
   ]
  },
  {
   "cell_type": "markdown",
   "metadata": {},
   "source": [
    "<h2 style=\"color:salmon\"> Accuracy and Prediction analysis </h2>"
   ]
  },
  {
   "cell_type": "markdown",
   "metadata": {},
   "source": [
    "<p> Hold on to your hard hats</p>\n",
    "<h3 style=\"color:salmon\">Install libraries and modules</h3>"
   ]
  },
  {
   "cell_type": "code",
   "execution_count": 60,
   "metadata": {},
   "outputs": [],
   "source": [
    "import numpy as np\n",
    "import pandas as pd \n",
    "import matplotlib.pyplot as plt\n",
    "import seaborn as sn\n",
    "from statistics import mode\n",
    "from nested_lookup import nested_lookup\n"
   ]
  },
  {
   "cell_type": "markdown",
   "metadata": {},
   "source": [
    "<h4 style=\"color:salmon\"> Converts a list of yes/no values to 1's and 0's </h4>\n"
   ]
  },
  {
   "cell_type": "code",
   "execution_count": 61,
   "metadata": {},
   "outputs": [],
   "source": [
    "def convert_first(class_list):\n",
    "\tclass_dict = {\"Yes\":1,\"No\":0}\n",
    "\tclass_list = [class_dict[item] for item in class_list]\n",
    "\treturn class_list\n",
    "\n",
    "def convert(class_list):\n",
    "\tclass_unique = np.unique(class_list)\n",
    "\tclass_dict = {}\n",
    "\tfor index in range(len(class_unique)):\n",
    "\t\tclass_dict[class_unique[index]] = index\n",
    "\n",
    "\tclass_list =  [class_dict[item] for item in class_list]\n",
    "\treturn class_list\n",
    "\n"
   ]
  },
  {
   "cell_type": "markdown",
   "metadata": {},
   "source": [
    "<h4 style=\"color:salmon\"> Predict the class given the feature values </h4>\n",
    "<img src=\"predict.png\"> "
   ]
  },
  {
   "cell_type": "code",
   "execution_count": 62,
   "metadata": {},
   "outputs": [],
   "source": [
    "def predict(tree,features):\n",
    "\n",
    "\tfor feature in features:\n",
    "\t\tnew_tree = nested_lookup(feature,tree)\n",
    "\t\tif len(new_tree) == 0:\n",
    "\t\t\tcontinue\n",
    "\t\telse:\n",
    "\t\t\ttree = new_tree\n",
    "\treturn tree\n",
    "\n",
    "\n",
    "\n",
    "def predict_dataset(model,test_data):\n",
    "\tclass_list = []\n",
    "\tfor i in range(len(test_data)):\n",
    "\t\tsample = list(test_data.iloc[i,:-1])\n",
    "\t\tclass_list.append(predict(model,sample)[0])\n",
    "\treturn class_list"
   ]
  },
  {
   "cell_type": "markdown",
   "metadata": {},
   "source": [
    "<h3 style=\"color:salmon\">Calculations</h3>\n",
    "<img src=\"f_measure.png\"/>\n",
    "<img src=\"precision.png\"/>\n",
    "<img src=\"recall.png\"/>\n",
    "<img src=\"accuracy.png\"/>"
   ]
  },
  {
   "cell_type": "code",
   "execution_count": 63,
   "metadata": {},
   "outputs": [],
   "source": [
    "#Accuracy\n",
    "#Assumes cost\n",
    "def accuracy(TP,TN,FP,FN):\n",
    "\tnumerator = TP + TN\n",
    "\tdenominator = TP + TN + FP + FN\n",
    "\treturn numerator/denominator\n",
    "\t\n",
    "\n",
    "# When it actually says, i.e real data\n",
    "#how often does it predict yes\n",
    "def recall(TP,FN):\n",
    "  return TP/(TP+FN)\n",
    "\n",
    "\n",
    "#When it predicts yes , how often\n",
    "def precision(TP,FP):\n",
    "\treturn TP/(TP+FP)\n",
    "\n",
    "\n",
    "\n",
    "\n",
    "def f_measure(recall,precision):\n",
    "\tnumerator = 2* recall * precision\n",
    "\tdenominator = recall + precision\n",
    "\treturn numerator / denominator\n",
    "\n"
   ]
  },
  {
   "cell_type": "markdown",
   "metadata": {},
   "source": [
    "<h3 style=\"color:salmon\">Confusion Matrix </h3>\n",
    "<img src=\"template.png\"/>\n"
   ]
  },
  {
   "cell_type": "code",
   "execution_count": 64,
   "metadata": {},
   "outputs": [],
   "source": [
    "def prediction(test_data,model):\n",
    "\n",
    "\tactual = list(test_data.iloc[:,-1])\n",
    "\tpredicted = predict_dataset(model,test_data)\n",
    "\n",
    "\tactual_n = convert(actual)\n",
    "\tpredicted_n = convert(predicted)\n",
    "\n",
    "\n",
    "\tdata = {\"y_act\":actual_n,\"y_pred\":predicted_n}\n",
    "\tdf = pd.DataFrame(data,columns = [\"y_act\",\"y_pred\"])\n",
    "\tconf_matrix = pd.crosstab(df[\"y_act\"],df[\"y_pred\"],rownames=[\"Actual\"],colnames=[\"Predicted\"],margins=True,margins_name=\"Total\")\n",
    "\t\n",
    "\tTP = conf_matrix[1][1]\n",
    "\tTN = conf_matrix[0][0]\n",
    "\tFP = conf_matrix[1][0]\n",
    "\tFN = conf_matrix[0][1]\n",
    "\tacc = accuracy(TP,TN,FP,FN)\n",
    "\trecall_data = recall(TP,FN)\n",
    "\tprecision_data = precision(TP,FP)\n",
    "\tf_measure_data = f_measure(recall_data,precision_data)\n",
    "\treturn [{\"Accuracy\":acc, \"Recall\":recall_data,\"Precision\":precision_data,\"F Measure\":f_measure_data},conf_matrix]\n"
   ]
  },
  {
   "cell_type": "code",
   "execution_count": 65,
   "metadata": {},
   "outputs": [],
   "source": [
    "def dict_print(dic):\n",
    "\tfor k,v in dic.items():\n",
    "\t\tprint(k,\" : \" ,v)\n",
    "\n",
    "def show_heatmap(conf_matrix):\n",
    "\tsn.heatmap(conf_matrix,annot=True)\n",
    "\tplt.title(\"Confusion Matrix: Are you convinced yet ?\")\n",
    "\tplt.show()\n"
   ]
  },
  {
   "cell_type": "markdown",
   "metadata": {},
   "source": [
    "<h2 style=\"color:lightgreen\"> Decision Tree Method </h2>"
   ]
  },
  {
   "cell_type": "code",
   "execution_count": 66,
   "metadata": {},
   "outputs": [],
   "source": [
    "def proof(conf_matrix):\n",
    "\tans = input(\"Are you convinced that it's right:  [y/n]:  \")\n",
    "\tif ans == \"n\" or ans == \"N\":\n",
    "\t\tshow_heatmap(conf_matrix)\n",
    "\telse:\n",
    "\t\tprint(\"Great !!\")\n"
   ]
  },
  {
   "cell_type": "code",
   "execution_count": 69,
   "metadata": {},
   "outputs": [],
   "source": [
    "def decision_tree(train_data,test_data):\n",
    "\t# model=  ID3_features(train_data,train_data,features)\n",
    "\tmodel = ID3(train_data,train_data)\n",
    "\tprint(\"Tree: \",model)\n",
    "\tprint(\"Prediction results ...\")\n",
    "\tprediction_data = prediction(test_data,model)\n",
    "\tdict_print(prediction_data[0])\n",
    "\tproof(prediction_data[1])"
   ]
  },
  {
   "cell_type": "code",
   "execution_count": 70,
   "metadata": {},
   "outputs": [
    {
     "name": "stdout",
     "output_type": "stream",
     "text": [
      "Tree:  {'Outlook': {'Rainy': {'Windy': {'Weak': 'Yes', 'Strong': 'No'}}, 'Sunny': 'No', 'Overcast': 'Yes'}}\n",
      "Prediction results ...\n",
      "Accuracy  :  0.714285714286\n",
      "Recall  :  0.6\n",
      "Precision  :  1.0\n",
      "F Measure  :  0.75\n"
     ]
    },
    {
     "name": "stdin",
     "output_type": "stream",
     "text": [
      "Are you convinced that it's right:  [y/n]:   n\n"
     ]
    },
    {
     "data": {
      "image/png": "[encoded data removed]",
      "text/plain": [
       "<Figure size 432x288 with 2 Axes>"
      ]
     },
     "metadata": {
      "needs_background": "light"
     },
     "output_type": "display_data"
    }
   ],
   "source": [
    "decision_tree(train_data,test_data)"
   ]
  },
  {
   "cell_type": "code",
   "execution_count": null,
   "metadata": {},
   "outputs": [],
   "source": []
  },
  {
   "cell_type": "code",
   "execution_count": null,
   "metadata": {},
   "outputs": [],
   "source": []
  }
 ],
 "metadata": {
  "kernelspec": {
   "display_name": "Python 3",
   "language": "python",
   "name": "python3"
  },
  "language_info": {
   "codemirror_mode": {
    "name": "ipython",
    "version": 3
   },
   "file_extension": ".py",
   "mimetype": "text/x-python",
   "name": "python",
   "nbconvert_exporter": "python",
   "pygments_lexer": "ipython3",
   "version": "3.6.3"
  }
 },
 "nbformat": 4,
 "nbformat_minor": 4
}
