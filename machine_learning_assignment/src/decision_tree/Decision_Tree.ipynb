{
 "cells": [
  {
   "cell_type": "markdown",
   "metadata": {},
   "source": [
    "<h2 style=\"color:salmon\">Decision Trees</h2>"
   ]
  },
  {
   "cell_type": "code",
   "execution_count": 1,
   "metadata": {},
   "outputs": [],
   "source": [
    "from train import *\n",
    "# from compare import *\n",
    "from statistics import mode\n",
    "from nested_lookup import nested_lookup\n",
    "from predict import *\n",
    "from visualise import *\n",
    "import seaborn as sn\n",
    "import matplotlib.pyplot as plt\n",
    "\n"
   ]
  },
  {
   "cell_type": "code",
   "execution_count": 2,
   "metadata": {},
   "outputs": [],
   "source": [
    "org_features = [\"Class\",\"Age\",\"Menopause\",\"Tumor-Size\",\"Inv-Node\",\"Node-Caps\",\"Deg-Malig\",\"Breast\",\"Breast-Quad\",\"Irradiat\"]\n",
    "features = [\"Irradiat\",\"Age\",\"Menopause\",\"Tumor-Size\",\"Inv-Node\",\"Node-Caps\",\"Deg-Malig\",\"Breast\",\"Breast-Quad\"]\n",
    "features_wc = [\"Irradiat\",\"Age\",\"Menopause\",\"Tumor-Size\",\"Inv-Node\",\"Node-Caps\",\"Deg-Malig\",\"Breast\",\"Breast-Quad\",\"Class\"]\n",
    "dataset = pd.read_csv(\"breast-cancer.csv\",sep=\",\",header=None,names=org_features)"
   ]
  },
  {
   "cell_type": "code",
   "execution_count": 3,
   "metadata": {},
   "outputs": [],
   "source": [
    "# Swap last column and first column - ID3 algorithm takes last column as class\n",
    "ndataset = dataset[features_wc]\n",
    "ndataset = ndataset.sample(frac=1)\n",
    "filter_dataset = ndataset.replace(\"?\",np.NaN)\n",
    "\n",
    "\n",
    "# Remove all of the NaN values\n",
    "drop_filter_dataset = filter_dataset.dropna(how=\"any\").reset_index(drop=True)\n",
    "\n"
   ]
  },
  {
   "cell_type": "code",
   "execution_count": 4,
   "metadata": {},
   "outputs": [],
   "source": [
    "def convert_first(class_list):\n",
    "\tclass_dict = {\"recurrence-events\":1,\"no-recurrence-events\":0}\n",
    "\tclass_list = [class_dict[item] for item in class_list]\n",
    "\treturn class_list\n",
    "\n",
    "def convert(class_list):\n",
    "\tclass_unique = np.unique(class_list)\n",
    "\tclass_dict = {}\n",
    "\tfor index in range(len(class_unique)):\n",
    "\t\tclass_dict[class_unique[index]] = index\n",
    "\n",
    "\tclass_list =  [class_dict[item] for item in class_list]\n",
    "\treturn class_list\n",
    "\n",
    "\n",
    "\n",
    "#Accuracy"
   ]
  },
  {
   "cell_type": "code",
   "execution_count": 5,
   "metadata": {},
   "outputs": [],
   "source": [
    "def accuracy(TP,TN,FP,FN):\n",
    "\tnumerator = TP + TN\n",
    "\tdenominator = TP + TN + FP + FN\n",
    "\treturn numerator/denominator\n",
    "\t\n",
    "\n",
    "# When it actually says, i.e real data\n",
    "#how often does it predict yes\n",
    "def recall(TP,FN):\n",
    "  return TP/(TP+FN)\n",
    "\n",
    "\n",
    "#When it predicts yes , how often\n",
    "def precision(TP,FP):\n",
    "\treturn TP/(TP+FP)\n",
    "\n",
    "\n",
    "\n",
    "\n",
    "def f_measure(recall,precision):\n",
    "\tnumerator = 2* recall * precision\n",
    "\tdenominator = recall + precision\n",
    "\treturn numerator / denominator\n",
    "\n",
    "\n",
    "\n",
    "def prediction_accuracy(test_data,model):\n",
    "\n",
    "\t# Collect all the predictions\n",
    "\tprediction_list = predict_dataset(model,test_data)\n",
    "\tconvert_pred = convert(prediction_list)\n",
    "\t# # Collect the actual values\n",
    "\tactual = list(test_data.iloc[:,-1])\n",
    "\tconvert_act = convert(actual)\n",
    "\n",
    "\tdata = {\"y_act\":convert_act,\"y_pred\":convert_pred}\n",
    "\tdf = pd.DataFrame(data,columns = [\"y_act\",\"y_pred\"])\n",
    "\tconf_matrix = pd.crosstab(df[\"y_act\"],df[\"y_pred\"],rownames=[\"Actual\"],colnames=[\"Predicted\"],margins=True,margins_name=\"Total\")\n",
    "\tTP = conf_matrix[1][1]\n",
    "\tTN = conf_matrix[0][0]\n",
    "\tFP = conf_matrix[1][0]\n",
    "\tFN = conf_matrix[0][1]\n",
    "\tacc = accuracy(TP,TN,FP,FN)\n",
    "\trecall_data = recall(TP,FN)\n",
    "\tprecision_data = precision(TP,FP)\n",
    "\tf_measure_data = f_measure(recall_data,precision_data)\n",
    "\treturn [{\"Accuracy\":acc, \"Recall\":recall_data,\"Precision\":precision_data,\"F Measure\":f_measure_data},conf_matrix]\n",
    "\n",
    "\n",
    "\n",
    "\n",
    "\n",
    "def show_heatmap(conf_matrix):\n",
    "\tsn.heatmap(conf_matrix,annot=True)\n",
    "\tplt.title(\"Breast Cancer: Confusion Matrix\")\n",
    "\tplt.show()\n",
    "\n"
   ]
  },
  {
   "cell_type": "code",
   "execution_count": 6,
   "metadata": {},
   "outputs": [],
   "source": [
    "def draw(parent_name, child_name):\n",
    "    edge = pydot.Edge(parent_name, child_name)\n",
    "    graph.add_edge(edge)\n",
    "\n",
    "\n",
    "def visit(node, parent=None):\n",
    "    for k,v in node.items():\n",
    "        if isinstance(v, dict):      \n",
    "            if parent:\n",
    "                draw(parent, k)\n",
    "            visit(v, k)\n",
    "        else:\n",
    "            draw(parent, k)         \n",
    "            draw(k, k+'_'+v)\n"
   ]
  },
  {
   "cell_type": "code",
   "execution_count": 7,
   "metadata": {},
   "outputs": [],
   "source": [
    "#Split the data\n",
    "split = len(drop_filter_dataset) * 75//100\n",
    "train_data = drop_filter_dataset[:split]\n",
    "test_data = drop_filter_dataset[split:]\n",
    "\n",
    "model = ID3(train_data,train_data)\n",
    "\n"
   ]
  },
  {
   "cell_type": "code",
   "execution_count": 8,
   "metadata": {},
   "outputs": [
    {
     "data": {
      "text/plain": [
       "{'Tumor-Size': {'30-34': {'Deg-Malig': {3: {'Breast-Quad': {'left_up': {'Menopause': {'premeno': 'recurrence-events',\n",
       "        'ge40': 'recurrence-events',\n",
       "        'lt40': 'no-recurrence-events'}},\n",
       "      'left_low': {'Age': {'50-59': 'no-recurrence-events',\n",
       "        '60-69': 'no-recurrence-events',\n",
       "        '40-49': 'recurrence-events',\n",
       "        '30-39': 'no-recurrence-events'}},\n",
       "      'right_up': 'recurrence-events',\n",
       "      'right_low': 'recurrence-events',\n",
       "      'central': 'recurrence-events'}},\n",
       "    2: {'Inv-Node': {'0-2': {'Irradiat': {'no': {'Breast': {'left': {'Node-Caps': {'no': 'no-recurrence-events'}},\n",
       "          'right': 'no-recurrence-events'}},\n",
       "        'yes': 'no-recurrence-events'}},\n",
       "      '6-8': 'no-recurrence-events',\n",
       "      '3-5': 'recurrence-events',\n",
       "      '9-11': 'recurrence-events'}},\n",
       "    1: 'no-recurrence-events'}},\n",
       "  '25-29': 'no-recurrence-events',\n",
       "  '20-24': 'no-recurrence-events',\n",
       "  '15-19': 'no-recurrence-events',\n",
       "  '10-14': 'no-recurrence-events',\n",
       "  '35-39': 'no-recurrence-events',\n",
       "  '40-44': 'no-recurrence-events',\n",
       "  '0-4': 'no-recurrence-events',\n",
       "  '50-54': 'no-recurrence-events',\n",
       "  '45-49': 'no-recurrence-events',\n",
       "  '5-9': 'no-recurrence-events'}}"
      ]
     },
     "execution_count": 8,
     "metadata": {},
     "output_type": "execute_result"
    }
   ],
   "source": [
    "model"
   ]
  },
  {
   "cell_type": "code",
   "execution_count": 9,
   "metadata": {},
   "outputs": [
    {
     "name": "stdout",
     "output_type": "stream",
     "text": [
      "Accuracy\n",
      "{'Accuracy': 0.74285714285714288, 'Recall': 0.1111111111111111, 'Precision': 0.5, 'F Measure': 0.1818181818181818}\n"
     ]
    },
    {
     "data": {
      "image/png": "[encoded data removed]",
      "text/plain": [
       "<Figure size 432x288 with 2 Axes>"
      ]
     },
     "metadata": {
      "needs_background": "light"
     },
     "output_type": "display_data"
    }
   ],
   "source": [
    "def decision_tree(test_data,model):\n",
    "\tprint(\"Accuracy\")\n",
    "\tprint(prediction_accuracy(test_data,model)[0])\n",
    "\tshow_heatmap(prediction_accuracy(test_data,model)[1])\n",
    "\n",
    "decision_tree(test_data,model)\n"
   ]
  },
  {
   "cell_type": "code",
   "execution_count": null,
   "metadata": {},
   "outputs": [],
   "source": []
  }
 ],
 "metadata": {
  "kernelspec": {
   "display_name": "Python 3",
   "language": "python",
   "name": "python3"
  },
  "language_info": {
   "codemirror_mode": {
    "name": "ipython",
    "version": 3
   },
   "file_extension": ".py",
   "mimetype": "text/x-python",
   "name": "python",
   "nbconvert_exporter": "python",
   "pygments_lexer": "ipython3",
   "version": "3.6.3"
  }
 },
 "nbformat": 4,
 "nbformat_minor": 4
}
