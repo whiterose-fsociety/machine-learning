{
 "cells": [
  {
   "cell_type": "markdown",
   "metadata": {},
   "source": [
    "# Naive Bayes Classifier"
   ]
  },
  {
   "cell_type": "markdown",
   "metadata": {},
   "source": [
    "###### Type of data we have\n",
    "1. Class: no-recurrence-events, recurrence-events\n",
    "2. age: 10-19, 20-29, 30-39, 40-49, 50-59, 60-69, 70-79, 80-89, 90-99.\n",
    "3. menopause: lt40, ge40, premeno.\n",
    "4. tumor-size: 0-4, 5-9, 10-14, 15-19, 20-24, 25-29, 30-34, 35-39, 40-44, 45-49, 50-54, 55-59.\n",
    "5. inv-nodes: 0-2, 3-5, 6-8, 9-11, 12-14, 15-17, 18-20, 21-23, 24-26, 27-29, 30-32, 33-35, 36-39.\n",
    "6. node-caps: yes, no.\n",
    "7. deg-malig: 1, 2, 3.\n",
    "8. breast: left, right.\n",
    "9. breast-quad: left-up, left-low, right-up, right-low, central.\n",
    "10. irradiat: yes, no."
   ]
  },
  {
   "cell_type": "code",
   "execution_count": 1,
   "metadata": {},
   "outputs": [
    {
     "data": {
      "text/html": [
       "<div>\n",
       "<style scoped>\n",
       "    .dataframe tbody tr th:only-of-type {\n",
       "        vertical-align: middle;\n",
       "    }\n",
       "\n",
       "    .dataframe tbody tr th {\n",
       "        vertical-align: top;\n",
       "    }\n",
       "\n",
       "    .dataframe thead th {\n",
       "        text-align: right;\n",
       "    }\n",
       "</style>\n",
       "<table border=\"1\" class=\"dataframe\">\n",
       "  <thead>\n",
       "    <tr style=\"text-align: right;\">\n",
       "      <th></th>\n",
       "      <th>Class</th>\n",
       "      <th>Age</th>\n",
       "      <th>Menopause</th>\n",
       "      <th>Tumor-size</th>\n",
       "      <th>Inv-nodes</th>\n",
       "      <th>Node-caps</th>\n",
       "      <th>Deg-malig</th>\n",
       "      <th>Breast</th>\n",
       "      <th>Breast-Quad</th>\n",
       "      <th>Irradiant</th>\n",
       "    </tr>\n",
       "  </thead>\n",
       "  <tbody>\n",
       "    <tr>\n",
       "      <th>0</th>\n",
       "      <td>no-recurrence-events</td>\n",
       "      <td>30-39</td>\n",
       "      <td>premeno</td>\n",
       "      <td>30-34</td>\n",
       "      <td>0-2</td>\n",
       "      <td>no</td>\n",
       "      <td>3</td>\n",
       "      <td>left</td>\n",
       "      <td>left_low</td>\n",
       "      <td>no</td>\n",
       "    </tr>\n",
       "    <tr>\n",
       "      <th>1</th>\n",
       "      <td>no-recurrence-events</td>\n",
       "      <td>40-49</td>\n",
       "      <td>premeno</td>\n",
       "      <td>20-24</td>\n",
       "      <td>0-2</td>\n",
       "      <td>no</td>\n",
       "      <td>2</td>\n",
       "      <td>right</td>\n",
       "      <td>right_up</td>\n",
       "      <td>no</td>\n",
       "    </tr>\n",
       "    <tr>\n",
       "      <th>2</th>\n",
       "      <td>no-recurrence-events</td>\n",
       "      <td>40-49</td>\n",
       "      <td>premeno</td>\n",
       "      <td>20-24</td>\n",
       "      <td>0-2</td>\n",
       "      <td>no</td>\n",
       "      <td>2</td>\n",
       "      <td>left</td>\n",
       "      <td>left_low</td>\n",
       "      <td>no</td>\n",
       "    </tr>\n",
       "    <tr>\n",
       "      <th>3</th>\n",
       "      <td>no-recurrence-events</td>\n",
       "      <td>60-69</td>\n",
       "      <td>ge40</td>\n",
       "      <td>15-19</td>\n",
       "      <td>0-2</td>\n",
       "      <td>no</td>\n",
       "      <td>2</td>\n",
       "      <td>right</td>\n",
       "      <td>left_up</td>\n",
       "      <td>no</td>\n",
       "    </tr>\n",
       "    <tr>\n",
       "      <th>4</th>\n",
       "      <td>no-recurrence-events</td>\n",
       "      <td>40-49</td>\n",
       "      <td>premeno</td>\n",
       "      <td>0-4</td>\n",
       "      <td>0-2</td>\n",
       "      <td>no</td>\n",
       "      <td>2</td>\n",
       "      <td>right</td>\n",
       "      <td>right_low</td>\n",
       "      <td>no</td>\n",
       "    </tr>\n",
       "    <tr>\n",
       "      <th>...</th>\n",
       "      <td>...</td>\n",
       "      <td>...</td>\n",
       "      <td>...</td>\n",
       "      <td>...</td>\n",
       "      <td>...</td>\n",
       "      <td>...</td>\n",
       "      <td>...</td>\n",
       "      <td>...</td>\n",
       "      <td>...</td>\n",
       "      <td>...</td>\n",
       "    </tr>\n",
       "    <tr>\n",
       "      <th>281</th>\n",
       "      <td>recurrence-events</td>\n",
       "      <td>30-39</td>\n",
       "      <td>premeno</td>\n",
       "      <td>30-34</td>\n",
       "      <td>0-2</td>\n",
       "      <td>no</td>\n",
       "      <td>2</td>\n",
       "      <td>left</td>\n",
       "      <td>left_up</td>\n",
       "      <td>no</td>\n",
       "    </tr>\n",
       "    <tr>\n",
       "      <th>282</th>\n",
       "      <td>recurrence-events</td>\n",
       "      <td>30-39</td>\n",
       "      <td>premeno</td>\n",
       "      <td>20-24</td>\n",
       "      <td>0-2</td>\n",
       "      <td>no</td>\n",
       "      <td>3</td>\n",
       "      <td>left</td>\n",
       "      <td>left_up</td>\n",
       "      <td>yes</td>\n",
       "    </tr>\n",
       "    <tr>\n",
       "      <th>283</th>\n",
       "      <td>recurrence-events</td>\n",
       "      <td>60-69</td>\n",
       "      <td>ge40</td>\n",
       "      <td>20-24</td>\n",
       "      <td>0-2</td>\n",
       "      <td>no</td>\n",
       "      <td>1</td>\n",
       "      <td>right</td>\n",
       "      <td>left_up</td>\n",
       "      <td>no</td>\n",
       "    </tr>\n",
       "    <tr>\n",
       "      <th>284</th>\n",
       "      <td>recurrence-events</td>\n",
       "      <td>40-49</td>\n",
       "      <td>ge40</td>\n",
       "      <td>30-34</td>\n",
       "      <td>3-5</td>\n",
       "      <td>no</td>\n",
       "      <td>3</td>\n",
       "      <td>left</td>\n",
       "      <td>left_low</td>\n",
       "      <td>no</td>\n",
       "    </tr>\n",
       "    <tr>\n",
       "      <th>285</th>\n",
       "      <td>recurrence-events</td>\n",
       "      <td>50-59</td>\n",
       "      <td>ge40</td>\n",
       "      <td>30-34</td>\n",
       "      <td>3-5</td>\n",
       "      <td>no</td>\n",
       "      <td>3</td>\n",
       "      <td>left</td>\n",
       "      <td>left_low</td>\n",
       "      <td>no</td>\n",
       "    </tr>\n",
       "  </tbody>\n",
       "</table>\n",
       "<p>286 rows × 10 columns</p>\n",
       "</div>"
      ],
      "text/plain": [
       "                    Class    Age Menopause Tumor-size Inv-nodes Node-caps  \\\n",
       "0    no-recurrence-events  30-39   premeno      30-34       0-2        no   \n",
       "1    no-recurrence-events  40-49   premeno      20-24       0-2        no   \n",
       "2    no-recurrence-events  40-49   premeno      20-24       0-2        no   \n",
       "3    no-recurrence-events  60-69      ge40      15-19       0-2        no   \n",
       "4    no-recurrence-events  40-49   premeno        0-4       0-2        no   \n",
       "..                    ...    ...       ...        ...       ...       ...   \n",
       "281     recurrence-events  30-39   premeno      30-34       0-2        no   \n",
       "282     recurrence-events  30-39   premeno      20-24       0-2        no   \n",
       "283     recurrence-events  60-69      ge40      20-24       0-2        no   \n",
       "284     recurrence-events  40-49      ge40      30-34       3-5        no   \n",
       "285     recurrence-events  50-59      ge40      30-34       3-5        no   \n",
       "\n",
       "     Deg-malig Breast Breast-Quad Irradiant  \n",
       "0            3   left    left_low        no  \n",
       "1            2  right    right_up        no  \n",
       "2            2   left    left_low        no  \n",
       "3            2  right     left_up        no  \n",
       "4            2  right   right_low        no  \n",
       "..         ...    ...         ...       ...  \n",
       "281          2   left     left_up        no  \n",
       "282          3   left     left_up       yes  \n",
       "283          1  right     left_up        no  \n",
       "284          3   left    left_low        no  \n",
       "285          3   left    left_low        no  \n",
       "\n",
       "[286 rows x 10 columns]"
      ]
     },
     "execution_count": 1,
     "metadata": {},
     "output_type": "execute_result"
    }
   ],
   "source": [
    "import matplotlib.pyplot as plt\n",
    "import seaborn as sb\n",
    "import numpy as np\n",
    "import pandas as pd\n",
    "\n",
    "%matplotlib inline\n",
    "\n",
    "data = pd.read_csv('dataset.csv')\n",
    "\n",
    "dataset = np.array(data)\n",
    "data"
   ]
  },
  {
   "cell_type": "markdown",
   "metadata": {},
   "source": [
    "###### Removing datapoints with missing values\n",
    " * we remove occurances of the question mark symbol (?)\n",
    " * The Function return a data set with no datapoints containing missing values and a dataset only containing data with missing values\n"
   ]
  },
  {
   "cell_type": "code",
   "execution_count": 2,
   "metadata": {},
   "outputs": [],
   "source": [
    "def deleteMissing(data):\n",
    "    indices = np.array([])\n",
    "    missingValues = np.empty((0,10))\n",
    "    dataset = data\n",
    "    for i in  range(len(dataset)):\n",
    "        for j in range(len(dataset[i])):\n",
    "            if dataset[i][j] == '?':\n",
    "                indices = np.append(indices , [int(i)])\n",
    "                missingValues = np.append(missingValues , np.array([dataset[int(i)]]), axis = 0 )\n",
    "\n",
    "    for i in range(len(indices)):\n",
    "        # We start deleting in from the dataset from the end of the indices array\n",
    "        dataset = np.delete(dataset , int(indices[len(indices)-1-i]) , 0 )\n",
    "    return (dataset , missingValues);\n",
    "\n"
   ]
  },
  {
   "cell_type": "markdown",
   "metadata": {},
   "source": [
    "##### Setting appropriate datasets\n",
    "* we start with a dataset the will have no occurences of data points with missing values\n",
    "* Next is a dataset of all datapoints with missing values\n",
    "* Finally we set set make a data set similar to the dataset withouth missing values which we will later change"
   ]
  },
  {
   "cell_type": "code",
   "execution_count": 3,
   "metadata": {},
   "outputs": [],
   "source": [
    "dataset , dataWithMissingValues = deleteMissing(dataset)\n",
    "datasetNMV = dataset # We later make this dataset a complete dataset with no occurences of missing data points\n",
    "a , dataWithMissingValues1 = deleteMissing(np.array(data)) # To be used to replace with more most appearances\n",
    "datasetMCV = dataset # we later make this a complete dataset where the missing values are replaced with the most appearing"
   ]
  },
  {
   "cell_type": "markdown",
   "metadata": {},
   "source": [
    "###### Below we split the data into training , testing and validating data \n",
    "* We first shuffle the data to randomise it\n",
    "* We then split the data accordingly"
   ]
  },
  {
   "cell_type": "code",
   "execution_count": 4,
   "metadata": {},
   "outputs": [
    {
     "name": "stdout",
     "output_type": "stream",
     "text": [
      "(193, 10) (84, 10)\n"
     ]
    }
   ],
   "source": [
    "# Give the data a random shuffle first\n",
    "np.random.shuffle(dataset)\n",
    "\n",
    "# Data split\n",
    "trainingData , testData = dataset[:int(.70 * dataset.shape[0])] , dataset[int(.70 * dataset.shape[0]):]\n",
    "\n",
    "print(trainingData.shape , testData.shape)"
   ]
  },
  {
   "cell_type": "markdown",
   "metadata": {},
   "source": [
    "##### The Priors\n",
    "* The function below receives an array of classes\n",
    "* It then returns an array of the amount of classes are there\n",
    "* It also return an array of how many times each class appears in the input Array\n",
    "* Lastly It returns an array of probabilities for each class\n",
    "* This is to be used inside the Naive Bayes function"
   ]
  },
  {
   "cell_type": "code",
   "execution_count": 5,
   "metadata": {},
   "outputs": [],
   "source": [
    "def Priors(classArray):\n",
    "    probabilities = np.array([])\n",
    "    classes , counts = np.unique(classArray , return_counts = True)\n",
    "    \n",
    "    for i in counts:\n",
    "        probabilities = np.append(probabilities , [i/np.sum(counts)])\n",
    "    \n",
    "    return (classes , counts , probabilities)\n"
   ]
  },
  {
   "cell_type": "markdown",
   "metadata": {},
   "source": [
    "##### Naive Bayes\n",
    "* This class receives and index, idexing a feature to be used as an array of classes we are trying to classify\n",
    "* It also receives a matric of training data\n",
    "* it also receives a datapoint we are trying to classify\n",
    "* `The Function returns an array of probabilities and an array of classes`"
   ]
  },
  {
   "cell_type": "code",
   "execution_count": 6,
   "metadata": {},
   "outputs": [],
   "source": [
    "def NaiveBayes(classIndex , trainData , dataPoint , featureNum):\n",
    "    classes , classCounts , priorProbs = Priors(trainData[:,classIndex])\n",
    "    totalProbs = np.array([])\n",
    "    \n",
    "    for i in range(len(classes)):\n",
    "        \n",
    "        prob = priorProbs[i]\n",
    "        Class = classes[i]\n",
    "        classOccurance = classCounts[i]\n",
    "        \n",
    "        for j in range(len(dataPoint)):\n",
    "            \n",
    "            if (featureNum == 5 ) and (j == 0 or j == 1 or j == 2 or j == 8 ):\n",
    "                continue\n",
    "            \n",
    "            if j == classIndex:\n",
    "                continue\n",
    "                \n",
    "            fCount = 0\n",
    "            \n",
    "            for k in range(len(trainData)):\n",
    "                if len(np.where(trainData[k][classIndex] == Class and trainData[k][j] == dataPoint[j])[0] > 0):\n",
    "                    fCount += 1 \n",
    "            \n",
    "            fCount = fCount/classOccurance\n",
    "            prob *= fCount \n",
    "            \n",
    "        totalProbs = np.append(totalProbs , [prob])\n",
    "    \n",
    "    return (totalProbs , classes);\n",
    "   \n"
   ]
  },
  {
   "cell_type": "markdown",
   "metadata": {},
   "source": [
    "##### Dealing with missing Values\n",
    "* We now need to predict what the missing values are using our Naive bayes classifier\n",
    "* Once we have done that we need to add those data points back to the main data set\n",
    "* Then lastly we need to run our classifier on the complete data set"
   ]
  },
  {
   "cell_type": "code",
   "execution_count": 7,
   "metadata": {},
   "outputs": [],
   "source": [
    "# remember we have a matric of missing data points named dataWithMissingvalues\n",
    "\n",
    "def fixMissingValues(data , missingData):\n",
    "    dataset = data\n",
    "    miss = missingData\n",
    "    newData = np.empty((0,10))\n",
    "    for dataPoint in miss:\n",
    "        d = dataPoint      ## This was for testing, it works just fine so no need to change it\n",
    "        if dataPoint[5] == '?':\n",
    "            probs , classes = NaiveBayes(5 , dataset , dataPoint , 10)\n",
    "            d[5] = classes[np.argmax(probs)]\n",
    "            dataset = np.append(dataset , [d] , axis = 0)\n",
    "        elif dataPoint[8] == '?':\n",
    "            probs , classes = NaiveBayes(8 , dataset , dataPoint , 10)\n",
    "            d[8] = classes[np.argmax(probs)]\n",
    "            dataset = np.append(dataset , [d] , axis = 0)\n",
    "      \n",
    "    return dataset"
   ]
  },
  {
   "cell_type": "code",
   "execution_count": null,
   "metadata": {},
   "outputs": [],
   "source": []
  },
  {
   "cell_type": "code",
   "execution_count": 8,
   "metadata": {},
   "outputs": [],
   "source": [
    "def replaceMissingValues(data , missingData):\n",
    "    dataset  = data\n",
    "    miss = missingData\n",
    "    newData = np.empty((0,10))\n",
    "    for dataPoint in miss:\n",
    "        d = dataPoint      ## This was for testing, it works just fine so no need to change it\n",
    "        if dataPoint[5] == '?':\n",
    "            classes , counts = np.unique(data[:,5] , return_counts = True)\n",
    "            d[5] = classes[np.argmax(counts)]\n",
    "            dataset = np.append(dataset , [d] , axis = 0)\n",
    "        elif dataPoint[8] == '?':\n",
    "            classes , counts = np.unique(data[:,8] , return_counts = True)\n",
    "            d[8] = classes[np.argmax(counts)]\n",
    "            dataset = np.append(dataset , [d] , axis = 0)\n",
    "            \n",
    "    return dataset"
   ]
  },
  {
   "cell_type": "code",
   "execution_count": null,
   "metadata": {},
   "outputs": [],
   "source": [
    " \n"
   ]
  },
  {
   "cell_type": "markdown",
   "metadata": {},
   "source": [
    "### DatasetNMV is the Dataset with no occurences of missing values\n",
    "* From this data we will create a training and a testing set\n",
    "* Which we will later use for reporting accuracies"
   ]
  },
  {
   "cell_type": "code",
   "execution_count": 9,
   "metadata": {},
   "outputs": [],
   "source": [
    "datasetNMV = fixMissingValues(datasetNMV, dataWithMissingValues)\n",
    "datasetMCV = replaceMissingValues(datasetMCV,dataWithMissingValues1) \n",
    "\n",
    "np.random.shuffle(datasetNMV)\n",
    "TrainSet , TestSet = datasetNMV[:int(.70*len(datasetNMV))] , datasetNMV[int(.70*len(datasetNMV)):]\n"
   ]
  },
  {
   "cell_type": "markdown",
   "metadata": {},
   "source": [
    " ### Confusion Matrix\n",
    "* Below is a generalized confusion matrix taking in the training set and testing set\n",
    "* The Function returns a confusion matric which we will use to analyse and deduce information for our model\n",
    "* We are going to run the Model on the complete data set as well as the set with no missing value occurances\n",
    "> `Information :` \n",
    " * index is the feature index\n",
    " * TP is For TRUE POSITIVE\n",
    " * TN is TRUE NEGATIVE\n",
    " *  FN is FALSE NEGATIVE\n",
    " * FP is fALSE POSITIVE"
   ]
  },
  {
   "cell_type": "code",
   "execution_count": 10,
   "metadata": {},
   "outputs": [],
   "source": [
    "def ConfusionMatric(trainingSet , testingSet , featureNum ):\n",
    "    index = 0\n",
    "    TP = 0 \n",
    "    TN = 0 \n",
    "    FN = 0 \n",
    "    FP = 0\n",
    "    \n",
    "    for dataPoint in testingSet:\n",
    "        probs , classes = NaiveBayes(index , trainingSet , dataPoint , featureNum)\n",
    "        predicted = classes[np.argmax(probs)]\n",
    "        trueValue = dataPoint[index]\n",
    "        \n",
    "        if trueValue == 'recurrence-events':\n",
    "            if predicted == trueValue:\n",
    "                TP += 1\n",
    "            else : \n",
    "                FN += 1\n",
    "        else:\n",
    "            if predicted == trueValue:\n",
    "                TN += 1\n",
    "            else : \n",
    "                FP += 1\n",
    "    \n",
    "    \n",
    "    ConfusionMatrix = np.array([[TP , FP],[FN , TN]])\n",
    "    return ConfusionMatrix\n"
   ]
  },
  {
   "cell_type": "markdown",
   "metadata": {},
   "source": [
    "### Analysis\n",
    "> Here we write a fucntion that receives a confusion matric this functions returns: \n",
    "* The Accuracy of the model\n",
    "* The Specificity (AKA True Negative Rate)\n",
    "* The Precision , Ration of correct Positive examples to Total positive examples\n",
    "* The Recall, ratio of the number of correct positive examples out of those that were classified as positive"
   ]
  },
  {
   "cell_type": "code",
   "execution_count": 11,
   "metadata": {},
   "outputs": [],
   "source": [
    "def Analysis(confusionMatric):\n",
    "    Tp = confusionMatric[0][0]\n",
    "    Fp = confusionMatric[0][1]\n",
    "    Fn = confusionMatric[1][0]\n",
    "    Tn = confusionMatric[1][1]\n",
    "    \n",
    "    accuracy = (Tp + Tn) / (Tp + Fp + Fn + Tn)\n",
    "    specificity = Tn / (Tn + Fp)\n",
    "    precision = Tp / (Tp + Fp)\n",
    "    recall = Tp / (Tp + Fn)\n",
    "    \n",
    "    return(accuracy , specificity , precision , recall)"
   ]
  },
  {
   "cell_type": "markdown",
   "metadata": {},
   "source": [
    "### Averages\n",
    "* Below we run the algorithm again and again for a given dataset\n",
    "* This function basically prints out stuff and returns nothing\n",
    "* This function prints out the evarage amount Analysis of the date\n",
    "* The function receives a dataset and the amount of times one would want the algorithm to run\n"
   ]
  },
  {
   "cell_type": "code",
   "execution_count": 12,
   "metadata": {},
   "outputs": [],
   "source": [
    "def Averages(data , amount , featureNum):\n",
    "    dataset = data\n",
    "    TP = 0 \n",
    "    TN = 0 \n",
    "    FN = 0 \n",
    "    FP = 0\n",
    "    \n",
    "    for i in range(amount):\n",
    "        np.random.shuffle(dataset)\n",
    "        # Data split\n",
    "        trainingData , testData = dataset[:int(.70 * dataset.shape[0])] , dataset[int(.70 * dataset.shape[0]):]\n",
    "        \n",
    "        confusionMatric = ConfusionMatric(trainingData, testData , featureNum)\n",
    "        TP += confusionMatric[0][0]\n",
    "        FP += confusionMatric[0][1]\n",
    "        FN += confusionMatric[1][0]\n",
    "        TN += confusionMatric[1][1]\n",
    "        \n",
    "        \n",
    "    ConfusionMatrix = np.array([[int(TP/amount) , int(FP/amount)],[int(FN/amount) , int(TN/amount)]])\n",
    "    accuracy , specificity , precision , recall = Analysis(ConfusionMatrix)\n",
    "    sb.heatmap(ConfusionMatrix , annot = True)\n",
    "    print(\"The average accuracy of the given dataset is: \", accuracy)\n",
    "    print(\"The average recall of the given dataset is: \", recall)\n",
    "    print(\"The average specificity of the given dataset is: \" , specificity)\n",
    "    print(\"The average precision of the given dataset is: \" , precision)"
   ]
  },
  {
   "cell_type": "markdown",
   "metadata": {},
   "source": [
    "# Finally Reporting Averages\n",
    "\n",
    "--------------------------------------------------------------\n",
    "### reporting for all the features in dataset\n",
    "--------------------------------------------------------------\n",
    "* ` The Averages function receives the inputs, the dataset , number of times the classifier should be run , and an integer value which says which features should be active, all 9 features or only important ones` \n",
    "> ###### Dataset\n",
    "* This is the dataset with occurences of missing values removed\n",
    "> ###### DatasetNMV\n",
    "* This data set has occurences of missing values replaced through passing it into a classifier\n",
    "> ###### DatasetMCV\n",
    "* This data set has occurences of missing valuses replaced by replacing the missing value with the most appearing value for that feature"
   ]
  },
  {
   "cell_type": "code",
   "execution_count": 13,
   "metadata": {},
   "outputs": [
    {
     "name": "stdout",
     "output_type": "stream",
     "text": [
      "The average accuracy of the given dataset is:  0.7349397590361446\n",
      "The average recall of the given dataset is:  0.4583333333333333\n",
      "The average specificity of the given dataset is:  0.847457627118644\n",
      "The average precision of the given dataset is:  0.55\n"
     ]
    },
    {
     "data": {
      "image/png": "[encoded data removed]",
      "text/plain": [
       "<Figure size 432x288 with 2 Axes>"
      ]
     },
     "metadata": {
      "needs_background": "light"
     },
     "output_type": "display_data"
    }
   ],
   "source": [
    "Averages(dataset, 20 , 10)"
   ]
  },
  {
   "cell_type": "code",
   "execution_count": 14,
   "metadata": {},
   "outputs": [
    {
     "name": "stdout",
     "output_type": "stream",
     "text": [
      "The average accuracy of the given dataset is:  0.7023809523809523\n",
      "The average recall of the given dataset is:  0.375\n",
      "The average specificity of the given dataset is:  0.8333333333333334\n",
      "The average precision of the given dataset is:  0.47368421052631576\n"
     ]
    },
    {
     "data": {
      "image/png": "[encoded data removed]",
      "text/plain": [
       "<Figure size 432x288 with 2 Axes>"
      ]
     },
     "metadata": {
      "needs_background": "light"
     },
     "output_type": "display_data"
    }
   ],
   "source": [
    "Averages(datasetNMV, 20 , 10)"
   ]
  },
  {
   "cell_type": "code",
   "execution_count": 19,
   "metadata": {},
   "outputs": [
    {
     "name": "stdout",
     "output_type": "stream",
     "text": [
      "The average accuracy of the given dataset is:  0.7176470588235294\n",
      "The average recall of the given dataset is:  0.48\n",
      "The average specificity of the given dataset is:  0.8166666666666667\n",
      "The average precision of the given dataset is:  0.5217391304347826\n"
     ]
    },
    {
     "data": {
      "image/png": "[encoded data removed]",
      "text/plain": [
       "<Figure size 432x288 with 2 Axes>"
      ]
     },
     "metadata": {
      "needs_background": "light"
     },
     "output_type": "display_data"
    }
   ],
   "source": [
    "Averages(datasetMCV, 20 , 10)"
   ]
  },
  {
   "cell_type": "markdown",
   "metadata": {},
   "source": [
    "### Reporting using the 5 features that contribute the most \n",
    "---\n",
    "* ` The Averages function receives the inputs, the dataset , number of times the classifier should be run , and an integer value which says which features should be active, all 9 features or only important ones` \n",
    "> ###### Dataset\n",
    "* This is the dataset with occurences of missing values removed\n",
    "> ###### DatasetNMV\n",
    "* This data set has occurences of missing values replaced through passing it into a classifier\n",
    "> ###### DatasetMCV\n",
    "* This data set has occurences of missing valuses replaced by replacing the missing value with the most appearing value for that feature"
   ]
  },
  {
   "cell_type": "code",
   "execution_count": 16,
   "metadata": {},
   "outputs": [
    {
     "name": "stdout",
     "output_type": "stream",
     "text": [
      "The average accuracy of the given dataset is:  0.7439024390243902\n",
      "The average recall of the given dataset is:  0.5\n",
      "The average specificity of the given dataset is:  0.8448275862068966\n",
      "The average precision of the given dataset is:  0.5714285714285714\n"
     ]
    },
    {
     "data": {
      "image/png": "[encoded data removed]",
      "text/plain": [
       "<Figure size 432x288 with 2 Axes>"
      ]
     },
     "metadata": {
      "needs_background": "light"
     },
     "output_type": "display_data"
    }
   ],
   "source": [
    "Averages(dataset, 20 , 5)"
   ]
  },
  {
   "cell_type": "code",
   "execution_count": 17,
   "metadata": {},
   "outputs": [
    {
     "name": "stdout",
     "output_type": "stream",
     "text": [
      "The average accuracy of the given dataset is:  0.7261904761904762\n",
      "The average recall of the given dataset is:  0.4\n",
      "The average specificity of the given dataset is:  0.864406779661017\n",
      "The average precision of the given dataset is:  0.5555555555555556\n"
     ]
    },
    {
     "data": {
      "image/png": "[encoded data removed]",
      "text/plain": [
       "<Figure size 432x288 with 2 Axes>"
      ]
     },
     "metadata": {
      "needs_background": "light"
     },
     "output_type": "display_data"
    }
   ],
   "source": [
    "Averages(datasetNMV, 20 , 5)"
   ]
  },
  {
   "cell_type": "code",
   "execution_count": 20,
   "metadata": {},
   "outputs": [
    {
     "name": "stdout",
     "output_type": "stream",
     "text": [
      "The average accuracy of the given dataset is:  0.75\n",
      "The average recall of the given dataset is:  0.4782608695652174\n",
      "The average specificity of the given dataset is:  0.8524590163934426\n",
      "The average precision of the given dataset is:  0.55\n"
     ]
    },
    {
     "data": {
      "image/png": "[encoded data removed]",
      "text/plain": [
       "<Figure size 432x288 with 2 Axes>"
      ]
     },
     "metadata": {
      "needs_background": "light"
     },
     "output_type": "display_data"
    }
   ],
   "source": [
    "Averages(datasetMCV, 20 , 5) #MCV for MOST COMMON VALUE"
   ]
  },
  {
   "cell_type": "code",
   "execution_count": null,
   "metadata": {},
   "outputs": [],
   "source": []
  }
 ],
 "metadata": {
  "kernelspec": {
   "display_name": "Python 3",
   "language": "python",
   "name": "python3"
  },
  "language_info": {
   "codemirror_mode": {
    "name": "ipython",
    "version": 3
   },
   "file_extension": ".py",
   "mimetype": "text/x-python",
   "name": "python",
   "nbconvert_exporter": "python",
   "pygments_lexer": "ipython3",
   "version": "3.7.7"
  }
 },
 "nbformat": 4,
 "nbformat_minor": 4
}
