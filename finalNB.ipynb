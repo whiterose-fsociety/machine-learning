{
 "cells": [
  {
   "cell_type": "code",
   "execution_count": 2,
   "metadata": {},
   "outputs": [],
   "source": [
    "import pandas as dp\n",
    "import numpy as np\n",
    "import math\n",
    "import random\n",
    "#from sklearn import datasets\n",
    "\n",
    "def frequency_table(data,headers):\n",
    "    \n",
    "    list_likelihood = []\n",
    "    for index in range(len(data.columns)-1):\n",
    "        likelihood_table=dp.crosstab(data[headers[index]],columns=data[headers[-1]],dropna=True,margins=True,margins_name='Total'\n",
    "                        ,normalize='columns')\n",
    "        list_likelihood.append(likelihood_table)\n",
    "\n",
    "    return list_likelihood\n",
    "\n",
    "\n",
    "data = dp.read_csv('tennis.csv',header=None,names=[\"Outlook\",\"Weather\",\"Humidity\",\"Wind\",\"Play\"])\n",
    "headers = list(data.columns)"
   ]
  },
  {
   "cell_type": "markdown",
   "metadata": {},
   "source": [
    "# CALCULATING PRIOR PROBABILITY"
   ]
  },
  {
   "cell_type": "code",
   "execution_count": 3,
   "metadata": {},
   "outputs": [
    {
     "data": {
      "text/plain": [
       "[0.6428571428571429, 0.35714285714285715]"
      ]
     },
     "execution_count": 3,
     "metadata": {},
     "output_type": "execute_result"
    }
   ],
   "source": [
    "#RETURNS A LIST OF THE PRIOR PROBABILITIES\n",
    "#WHERE INDEX 0 IS THE PROB OF YES.\n",
    "#INDEX 1 IS THE PROB OF NO\n",
    "\n",
    "def PriorProbability(data,headers):\n",
    "    probability=data[headers[-1]].value_counts(normalize=True)\n",
    "    return list(probability) \n",
    "PriorProbability(data,headers)"
   ]
  },
  {
   "cell_type": "markdown",
   "metadata": {},
   "source": [
    "# CALCULATING THE LIKELIHOOD:"
   ]
  },
  {
   "cell_type": "code",
   "execution_count": 4,
   "metadata": {},
   "outputs": [],
   "source": [
    "##Takes in a two string of row and column and returns their indexes \n",
    "def likelihood(col_name,row_name):\n",
    "    index =headers.index(col_name)\n",
    "    rows = list(frequency_table(data,headers)[index].index)\n",
    "    indexOfrows=rows.index(row_name)\n",
    "    value_yes = frequency_table(data,headers)[index].iloc[indexOfrows,1] ##probability of the data point given that its yes\n",
    "    value_no =frequency_table(data,headers)[index].iloc[indexOfrows,0]   ####probability of the data point given that its no\n",
    "    return [value_yes,value_no] #returns a list"
   ]
  },
  {
   "cell_type": "markdown",
   "metadata": {},
   "source": [
    "# CALCULATING THE POSTERIOR PROBABILITY"
   ]
  },
  {
   "cell_type": "code",
   "execution_count": 6,
   "metadata": {},
   "outputs": [
    {
     "name": "stdout",
     "output_type": "stream",
     "text": [
      "Enter Outlook(Overcast,Rainy or Sunny)\n",
      "Overcast\n",
      "Enter Humidity(High or Normal)\n",
      "High\n",
      "Enter Wind(Strong or Weak)\n",
      "Strong\n",
      "\n",
      "P(Yes) 1.0\n",
      "P(No) 0.0\n"
     ]
    }
   ],
   "source": [
    "print('Enter Outlook(Overcast,Rainy or Sunny)')\n",
    "outlook = input()\n",
    "\n",
    "print('Enter Humidity(High or Normal)')\n",
    "humi = input()\n",
    "\n",
    "print('Enter Wind(Strong or Weak)')\n",
    "wind = input()\n",
    "\n",
    "prior_yes = PriorProbability(data,headers)[0]\n",
    "prior_no  = PriorProbability(data,headers)[1]\n",
    "\n",
    "pyes = likelihood('Outlook',outlook)[0]*likelihood('Humidity',humi)[0]*likelihood('Wind',wind)[0]*prior_yes\n",
    "pno = likelihood('Outlook',outlook)[1]*likelihood('Humidity',humi)[1]*likelihood('Wind',wind)[1]*prior_no \n",
    "\n",
    "print()\n",
    "print('P(Yes)', pyes/(pyes+pno))\n",
    "print('P(No)', pno/(pyes+pno))"
   ]
  },
  {
   "cell_type": "code",
   "execution_count": null,
   "metadata": {},
   "outputs": [],
   "source": []
  }
 ],
 "metadata": {
  "kernelspec": {
   "display_name": "Python 3",
   "language": "python",
   "name": "python3"
  }
 },
 "nbformat": 4,
 "nbformat_minor": 4
}
