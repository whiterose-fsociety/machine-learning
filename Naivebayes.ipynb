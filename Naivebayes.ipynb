{
 "cells": [
  {
   "cell_type": "code",
   "execution_count": 19,
   "metadata": {},
   "outputs": [
    {
     "name": "stdout",
     "output_type": "stream",
     "text": [
      "Play       No       Yes  Total\n",
      "Outlook                       \n",
      "Overcast  0.0  0.444444      4\n",
      "Rainy     0.4  0.333333      5\n",
      "Sunny     0.6  0.222222      5\n",
      "Total     5.0  9.000000     14\n",
      "\n",
      "Play      No       Yes  Total\n",
      "Weather                      \n",
      "Cool     0.2  0.333333      4\n",
      "Hot      0.4  0.222222      4\n",
      "Mild     0.4  0.444444      6\n",
      "Total    5.0  9.000000     14\n",
      "\n",
      "Play       No       Yes  Total\n",
      "Humidity                      \n",
      "High      0.8  0.333333      7\n",
      "Normal    0.2  0.666667      7\n",
      "Total     5.0  9.000000     14\n",
      "\n",
      "Play     No       Yes  Total\n",
      "Wind                        \n",
      "Strong  0.6  0.333333      6\n",
      "Weak    0.4  0.666667      8\n",
      "Total   5.0  9.000000     14\n",
      "\n"
     ]
    }
   ],
   "source": [
    "import pandas as dp\n",
    "import numpy as np\n",
    "import math\n",
    "import random\n",
    "#from sklearn import datasets\n",
    "\n",
    "def frequency_table(data,headers):\n",
    "    \n",
    "    list_likelihood = []\n",
    "    \n",
    "    \n",
    "    for index in range(len(data.columns)-1):\n",
    "        likelihood_table=dp.crosstab(data[headers[index]],columns=data[headers[-1]],dropna=True,\n",
    "                                     margins=True,margins_name='Total'\n",
    "                        )   \n",
    "        for j in range(len(likelihood_table.index)-1):\n",
    "            if likelihood_table.iloc[j,0]==2:\n",
    "                likelihood_table.iloc[:-1,0]=(likelihood_table.iloc[:-1,0]+1)\n",
    "                likelihood_table.iloc[:-1,0]=likelihood_table.iloc[:-1,0]/sum(likelihood_table.iloc[:-1,0])\n",
    "                print()\n",
    "                break\n",
    "            else:\n",
    "                likelihood_table.iloc[:-1,0]=(likelihood_table.iloc[:-1,0])/sum(likelihood_table.iloc[:-1,0])\n",
    "                \n",
    "        \n",
    "        for i in range(len(likelihood_table.index)-1):\n",
    "            if likelihood_table.iloc[i,1]==2:\n",
    "                likelihood_table.iloc[:-1,1]=(likelihood_table.iloc[:-1,1]+1)\n",
    "                likelihood_table.iloc[:-1,1]=likelihood_table.iloc[:-1,1]/sum(likelihood_table.iloc[:-1,1])\n",
    "                break\n",
    "            else:\n",
    "                likelihood_table.iloc[:-1,1]=(likelihood_table.iloc[:-1,1])/sum(likelihood_table.iloc[:-1,1])\n",
    "\n",
    "        list_likelihood.append(likelihood_table)\n",
    "\n",
    "    return list_likelihood\n",
    "\n",
    "\n",
    "data = dp.read_csv('tennis.csv',header=None,names=[\"Outlook\",\"Weather\",\"Humidity\",\"Wind\",\"Play\"])\n",
    "headers = list(data.columns)\n",
    "\n",
    "for i in range(4):\n",
    "    print(frequency_table(data,headers)[i])\n",
    "    print()"
   ]
  },
  {
   "cell_type": "markdown",
   "metadata": {},
   "source": [
    "# CALCULATING PRIOR PROBABILITY"
   ]
  },
  {
   "cell_type": "code",
   "execution_count": 20,
   "metadata": {},
   "outputs": [
    {
     "data": {
      "text/plain": [
       "[0.6428571428571429, 0.35714285714285715]"
      ]
     },
     "execution_count": 20,
     "metadata": {},
     "output_type": "execute_result"
    }
   ],
   "source": [
    "#RETURNS A LIST OF THE PRIOR PROBABILITIES\n",
    "#WHERE INDEX 0 IS THE PROB OF YES.\n",
    "#INDEX 1 IS THE PROB OF NO\n",
    "\n",
    "def PriorProbability(data,headers):\n",
    "    probability=data[headers[-1]].value_counts(normalize=True)\n",
    "    return list(probability) \n",
    "PriorProbability(data,headers)"
   ]
  },
  {
   "cell_type": "markdown",
   "metadata": {},
   "source": [
    "# CALCULATING THE LIKELIHOOD:"
   ]
  },
  {
   "cell_type": "code",
   "execution_count": 4,
   "metadata": {},
   "outputs": [],
   "source": [
    "##Takes in a two string of row and column and extracts the values in the likelihood values of each likelihood table \n",
    "def likelihood(col_name,row_name):\n",
    "    index =headers.index(col_name)\n",
    "    rows = list(frequency_table(data,headers)[index].index)\n",
    "    indexOfrows=rows.index(row_name)\n",
    "    value_yes = frequency_table(data,headers)[index].iloc[indexOfrows,1] ##probability of the data point given that its yes\n",
    "    value_no =frequency_table(data,headers)[index].iloc[indexOfrows,0]   ####probability of the data point given that its no\n",
    "    return [value_yes,value_no] #returns a list\n"
   ]
  },
  {
   "cell_type": "markdown",
   "metadata": {},
   "source": [
    "# CALCULATING THE POSTERIOR PROBABILITY"
   ]
  },
  {
   "cell_type": "code",
   "execution_count": 21,
   "metadata": {},
   "outputs": [
    {
     "name": "stdout",
     "output_type": "stream",
     "text": [
      "Enter  Outlook\n",
      "Overcast\n",
      "Enter  Weather\n",
      "Cool\n",
      "Enter  Humidity\n",
      "Normal\n",
      "Enter  Wind\n",
      "Weak\n",
      "Hallo There\n",
      "\n",
      "P(Yes) 1.0\n",
      "P(No) 0.0\n"
     ]
    }
   ],
   "source": [
    "\n",
    "prior_yes = PriorProbability(data,headers)[0]\n",
    "prior_no  = PriorProbability(data,headers)[1]\n",
    "\n",
    "pyes = 1;\n",
    "pno =1\n",
    "for i in range(len(headers)-1):\n",
    "    print('Enter ',headers[i])\n",
    "    x = input()\n",
    "    pyes=pyes*likelihood(headers[i],x)[0]\n",
    "    pno=pno*likelihood(headers[i],x)[1]\n",
    "    \n",
    "\n",
    "posterio =  pyes*prior_yes/(pyes*prior_yes+pno*prior_no)   \n",
    "\n",
    "print(\"Hallo There\")\n",
    "print()\n",
    "print('P(Yes)',posterio)\n",
    "print('P(No)',1-posterio)"
   ]
  }
 ],
 "metadata": {
  "kernelspec": {
   "display_name": "Python 3",
   "language": "python",
   "name": "python3"
  },
  "language_info": {
   "codemirror_mode": {
    "name": "ipython",
    "version": 3
   },
   "file_extension": ".py",
   "mimetype": "text/x-python",
   "name": "python",
   "nbconvert_exporter": "python",
   "pygments_lexer": "ipython3",
   "version": "3.8.2"
  }
 },
 "nbformat": 4,
 "nbformat_minor": 4
}
